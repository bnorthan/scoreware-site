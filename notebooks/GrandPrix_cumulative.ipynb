{
 "cells": [
  {
   "cell_type": "code",
   "execution_count": 13,
   "metadata": {
    "collapsed": false
   },
   "outputs": [
    {
     "data": {
      "text/plain": [
       "[u'Male',\n",
       " u'Female',\n",
       " u'Agegrade',\n",
       " u'Totals Worksheet',\n",
       " u'Hangover',\n",
       " u'DistServ',\n",
       " u'10M',\n",
       " u'ROTG',\n",
       " u'Robinson']"
      ]
     },
     "execution_count": 13,
     "metadata": {},
     "output_type": "execute_result"
    }
   ],
   "source": [
    "import pandas as pd\n",
    "import operator\n",
    "from difflib import SequenceMatcher\n",
    "\n",
    "xl=pd.ExcelFile('../data/2016/Spreadsheet/Grand_Prix_Post_CM_2016.xls')\n",
    "\n",
    "xl.sheet_names"
   ]
  },
  {
   "cell_type": "code",
   "execution_count": 14,
   "metadata": {
    "collapsed": false
   },
   "outputs": [],
   "source": [
    "df=xl.parse('Female')\t"
   ]
  },
  {
   "cell_type": "code",
   "execution_count": 15,
   "metadata": {
    "collapsed": false
   },
   "outputs": [
    {
     "data": {
      "text/html": [
       "<div>\n",
       "<table border=\"1\" class=\"dataframe\">\n",
       "  <thead>\n",
       "    <tr style=\"text-align: right;\">\n",
       "      <th></th>\n",
       "      <th>Race #1 Hangover Half Marathon, January 1, 2016</th>\n",
       "      <th>Unnamed: 1</th>\n",
       "      <th>Unnamed: 2</th>\n",
       "      <th>Unnamed: 3</th>\n",
       "      <th>Unnamed: 4</th>\n",
       "      <th>Unnamed: 5</th>\n",
       "      <th>Unnamed: 6</th>\n",
       "      <th>Unnamed: 7</th>\n",
       "      <th>Unnamed: 8</th>\n",
       "      <th>Unnamed: 9</th>\n",
       "      <th>Unnamed: 10</th>\n",
       "      <th>Unnamed: 11</th>\n",
       "      <th>Unnamed: 12</th>\n",
       "    </tr>\n",
       "  </thead>\n",
       "  <tbody>\n",
       "    <tr>\n",
       "      <th>0</th>\n",
       "      <td>NaN</td>\n",
       "      <td>NaN</td>\n",
       "      <td>Female Open</td>\n",
       "      <td>NaN</td>\n",
       "      <td>Female 30-39</td>\n",
       "      <td>NaN</td>\n",
       "      <td>Female 40-49</td>\n",
       "      <td>NaN</td>\n",
       "      <td>Female 50-59</td>\n",
       "      <td>NaN</td>\n",
       "      <td>Female 60-69</td>\n",
       "      <td>NaN</td>\n",
       "      <td>Female 70-99</td>\n",
       "    </tr>\n",
       "    <tr>\n",
       "      <th>1</th>\n",
       "      <td>1</td>\n",
       "      <td>12.0</td>\n",
       "      <td>Michelle Davis</td>\n",
       "      <td>12.0</td>\n",
       "      <td>Karen Bertasso</td>\n",
       "      <td>12.0</td>\n",
       "      <td>Erin Corcoran</td>\n",
       "      <td>12.0</td>\n",
       "      <td>Inge Aiken</td>\n",
       "      <td>12.0</td>\n",
       "      <td>Martha Degrazia</td>\n",
       "      <td>12.0</td>\n",
       "      <td>NaN</td>\n",
       "    </tr>\n",
       "    <tr>\n",
       "      <th>2</th>\n",
       "      <td>2</td>\n",
       "      <td>10.0</td>\n",
       "      <td>Ping Wong</td>\n",
       "      <td>10.0</td>\n",
       "      <td>Kristen Quaresimo</td>\n",
       "      <td>10.0</td>\n",
       "      <td>Sally Drake</td>\n",
       "      <td>10.0</td>\n",
       "      <td>Denise Iannazotto</td>\n",
       "      <td>10.0</td>\n",
       "      <td>Cathy Sliwinski</td>\n",
       "      <td>10.0</td>\n",
       "      <td>NaN</td>\n",
       "    </tr>\n",
       "    <tr>\n",
       "      <th>3</th>\n",
       "      <td>3</td>\n",
       "      <td>8.0</td>\n",
       "      <td>Michelle Pratt</td>\n",
       "      <td>8.0</td>\n",
       "      <td>Meghan Mortensen</td>\n",
       "      <td>8.0</td>\n",
       "      <td>Karen Dolge</td>\n",
       "      <td>8.0</td>\n",
       "      <td>Linda Kimmey</td>\n",
       "      <td>8.0</td>\n",
       "      <td>Karen Spinozzi</td>\n",
       "      <td>8.0</td>\n",
       "      <td>NaN</td>\n",
       "    </tr>\n",
       "    <tr>\n",
       "      <th>4</th>\n",
       "      <td>4</td>\n",
       "      <td>7.0</td>\n",
       "      <td>Jennifer Kehn</td>\n",
       "      <td>7.0</td>\n",
       "      <td>Kari Deer</td>\n",
       "      <td>7.0</td>\n",
       "      <td>Kimberly Miseno</td>\n",
       "      <td>7.0</td>\n",
       "      <td>Maureen Fitzgerald</td>\n",
       "      <td>7.0</td>\n",
       "      <td>Joan Celentano</td>\n",
       "      <td>7.0</td>\n",
       "      <td>NaN</td>\n",
       "    </tr>\n",
       "  </tbody>\n",
       "</table>\n",
       "</div>"
      ],
      "text/plain": [
       "  Race #1 Hangover Half Marathon, January 1, 2016  Unnamed: 1      Unnamed: 2  \\\n",
       "0                                             NaN         NaN     Female Open   \n",
       "1                                               1        12.0  Michelle Davis   \n",
       "2                                               2        10.0       Ping Wong   \n",
       "3                                               3         8.0  Michelle Pratt   \n",
       "4                                               4         7.0   Jennifer Kehn   \n",
       "\n",
       "   Unnamed: 3         Unnamed: 4  Unnamed: 5       Unnamed: 6  Unnamed: 7  \\\n",
       "0         NaN       Female 30-39         NaN     Female 40-49         NaN   \n",
       "1        12.0     Karen Bertasso        12.0    Erin Corcoran        12.0   \n",
       "2        10.0  Kristen Quaresimo        10.0      Sally Drake        10.0   \n",
       "3         8.0   Meghan Mortensen         8.0      Karen Dolge         8.0   \n",
       "4         7.0          Kari Deer         7.0  Kimberly Miseno         7.0   \n",
       "\n",
       "           Unnamed: 8  Unnamed: 9      Unnamed: 10  Unnamed: 11   Unnamed: 12  \n",
       "0        Female 50-59         NaN     Female 60-69          NaN  Female 70-99  \n",
       "1          Inge Aiken        12.0  Martha Degrazia         12.0           NaN  \n",
       "2   Denise Iannazotto        10.0  Cathy Sliwinski         10.0           NaN  \n",
       "3        Linda Kimmey         8.0   Karen Spinozzi          8.0           NaN  \n",
       "4  Maureen Fitzgerald         7.0   Joan Celentano          7.0           NaN  "
      ]
     },
     "execution_count": 15,
     "metadata": {},
     "output_type": "execute_result"
    }
   ],
   "source": [
    "df.head()"
   ]
  },
  {
   "cell_type": "code",
   "execution_count": 16,
   "metadata": {
    "collapsed": false
   },
   "outputs": [
    {
     "name": "stdout",
     "output_type": "stream",
     "text": [
      "34,Michelle Davis\n",
      "24,Julia Flower\n",
      "20,Nicole Soblosky\n",
      "20,Lisa D'Aniello\n",
      "12,Amy Babeu\n",
      "12,Jennifer Kehn\n",
      "12,Alex Thompson\n",
      "12,Allison Connor\n",
      "10,Ping Wong\n",
      "10,Hannah Gallagher\n",
      "8,Jourdyn Nicholson\n",
      "8,Michelle Pratt\n",
      "7,Kerry Flower\n",
      "7,Hillary Johnson\n",
      "7,Julia Barker\n",
      "6,Clare Browne\n",
      "6,Irene Somerville\n",
      "5,Kersten Anderson\n",
      "4,Tara Joyce\n",
      "4,Katherine Clemente\n",
      "3,Heather Graves\n",
      "3,Tara Dee\n",
      "2,Karlie Mangette\n",
      "1,Ashleigh Nelson\n",
      "1,Elizabeth Burke\n",
      "1,Alison O'Brien\n",
      "\n",
      "\n",
      "21,Liz Chauhan\n",
      "20,Kristen Quaresimo\n",
      "20,Mollie Turner\n",
      "18,Meghan Mortensen\n",
      "13,Laura Zima\n",
      "12,Elizabeth Chauhan\n",
      "12,Danielle Maslowsky\n",
      "12,Kristina Gracey\n",
      "12,Karen Bertasso\n",
      "12,Lisa D'Aniello\n",
      "10,Jennifer Bennice\n",
      "10,Shelly Binsfeld\n",
      "9,Molly Casey\n",
      "8,Samantha McBee\n",
      "8,Larissa Bates\n",
      "7,Meleah Wright\n",
      "7,Kari Deer\n",
      "6,Stephanie Harrington\n",
      "5,Colleen Ottalagano-Mc\n",
      "4,Liz Ricci\n",
      "4,Karen DeFeo\n",
      "4,Sara Westcott\n",
      "3,Heidi Nark\n",
      "3,Emily Russell\n",
      "2,Wendy Colonno\n",
      "2,Erin Wrightson\n",
      "1,Kristin Zielinski\n",
      "1,Rebecca Tennyson\n",
      "1,Evan Kujawski\n",
      "\n",
      "\n",
      "34,Erin Corcoran\n",
      "31,Lara Stelmaszyk\n",
      "27,Sally Drake\n",
      "16,Karen Dolge\n",
      "12,Emily Bryans\n",
      "12,Virginia Larner\n",
      "12,Kari Gathen\n",
      "11,Colleen Murray\n",
      "10,Kathy VanValen\n",
      "10,Linda DeDominicis \n",
      "10,Miriam Hardin\n",
      "8,Darcy Rickard \n",
      "8,Jess Northan\n",
      "8,Lauren C Jones\n",
      "7,Kimberly Miseno\n",
      "7,Allison Bradley\n",
      "7,Veronica Perez \n",
      "6,Shannon Pinkowski\n",
      "6,Jayne Maloney \n",
      "5,Terra Stone\n",
      "5,Anne Miralles \n",
      "4,Alicia Gillen\n",
      "4,Jill Koziol\n",
      "3,Ann McAvoy\n",
      "3,Brenda Fish\n",
      "2,Karen Blesser\n",
      "2,Dana Mantes Harris\n",
      "2,Teresa Grant\n",
      "1,Sharon Strodl\n",
      "1,Christine Chung\n",
      "\n",
      "\n",
      "25,Colleen Brackett\n",
      "19,Nancy Taormina\n",
      "14,Maureen Fitzgerald\n",
      "12,Inge Aiken\n",
      "12,Anne Hurley \n",
      "12,Beth Stalker\n",
      "12,Nancy Briskie\n",
      "12,Mary Fenton\n",
      "11,Lauren Herbs\n",
      "10,Nancy Nicholson\n",
      "10,Lori Francesconi  \n",
      "10,Chris Varley\n",
      "10,Karen Gerstenberger\n",
      "10,Denise Iannazotto\n",
      "9,Kim Law\n",
      "8,Linda Kimmey\n",
      "8,Kathleen Dougherty\n",
      "8,Sharon Fellner\n",
      "8,Sue Cleary \n",
      "8,Gail Doering\n",
      "8,Diane Ehmann\n",
      "8,Stephanie Landy\n",
      "7,Jennifer Lawrence \n",
      "6,Mary Buck\n",
      "4,Diane Hanson\n",
      "4,Jenny Lee\n",
      "4,Kristen Hislop\n",
      "3,Denise Yonder\n",
      "2,Colette Van Kerckvoor\n",
      "1,Kathleen Beeman\n",
      "1,Sherri Pigneti\n",
      "\n",
      "\n",
      "66,Martha Degrazia\n",
      "25,Joan Celentano\n",
      "20,Susan Wong\n",
      "16,Elaine Morris\n",
      "15,Mary Collins-\n",
      "12,Katherine Ambrosio\n",
      "12,Donna Lustenhovwer\n",
      "12,Karen Dott\n",
      "10,Cathy Sliwinski\n",
      "10,Catherine Sliwinski \n",
      "10,Erika Oesterle\n",
      "10,Mary Ann Macri\n",
      "8,Anne Tyrrell\n",
      "8,Karen Spinozzi\n",
      "8,Anne Lytwynec \n",
      "7,Phyllis Fox\n",
      "7,Debra Kelley\n",
      "7,Carolyn George \n",
      "6,Marie Arrao\n",
      "6,Sue Nealon\n",
      "5,Darlene Cardillo\n",
      "5,Cathy Soloyna\n",
      "2,Valerie Pezzula\n",
      "2,Suzanne Nealon \n",
      "1,Diane Thompson\n",
      "\n",
      "\n",
      "44,Anny Stockman\n",
      "30,Eiko Bogue\n",
      "12,Marge Rajczewski\n",
      "\n",
      "\n"
     ]
    }
   ],
   "source": [
    "for i in range(6):\n",
    "    \n",
    "    new=df.ix[:,1+i*2:1+(i+1)*2]\n",
    "    new=new.dropna()\n",
    "    new=new.reset_index()\n",
    "    score(new)\n",
    "    print\n",
    "    print\n",
    "    "
   ]
  },
  {
   "cell_type": "code",
   "execution_count": 17,
   "metadata": {
    "collapsed": false,
    "scrolled": true
   },
   "outputs": [
    {
     "name": "stdout",
     "output_type": "stream",
     "text": [
      "34,Michelle Davis\n",
      "24,Julia Flower\n",
      "20,Nicole Soblosky\n",
      "20,Lisa D'Aniello\n",
      "12,Amy Babeu\n",
      "12,Jennifer Kehn\n",
      "12,Alex Thompson\n",
      "12,Allison Connor\n",
      "10,Ping Wong\n",
      "10,Hannah Gallagher\n",
      "8,Jourdyn Nicholson\n",
      "8,Michelle Pratt\n",
      "7,Kerry Flower\n",
      "7,Hillary Johnson\n",
      "7,Julia Barker\n",
      "6,Clare Browne\n",
      "6,Irene Somerville\n",
      "5,Kersten Anderson\n",
      "4,Tara Joyce\n",
      "4,Katherine Clemente\n",
      "3,Heather Graves\n",
      "3,Tara Dee\n",
      "2,Karlie Mangette\n",
      "1,Ashleigh Nelson\n",
      "1,Elizabeth Burke\n",
      "1,Alison O'Brien\n"
     ]
    }
   ],
   "source": [
    "new=df.ix[:,1:3]\n",
    "new=new.dropna()\n",
    "new=new.reset_index()\n",
    "score(new)"
   ]
  },
  {
   "cell_type": "code",
   "execution_count": 7,
   "metadata": {
    "collapsed": false
   },
   "outputs": [],
   "source": [
    "def score(age_results):\n",
    "    \n",
    "    dicti={}\n",
    "\n",
    "    for row in age_results.index:\n",
    "        #name=new.NameO[row]\n",
    "        #print row\n",
    "        #print age_results.iloc[row,2]\n",
    "        name=age_results.iloc[row,2]\n",
    "\n",
    "        p=age_results.iloc[row,1]\n",
    "        if name in dicti.keys():\n",
    "            points=dicti[name]\n",
    "            points.append(p)\n",
    "        else:\n",
    "            bestmatch=0\n",
    "            bestkey=None\n",
    "            for key in dicti.keys():\n",
    "                testmatch=SequenceMatcher(None, name, key).ratio()\n",
    "                if (testmatch>bestmatch):\n",
    "                    bestmatch=testmatch\n",
    "                    bestkey=key\n",
    "                       \n",
    "            if (bestmatch>0.85):\n",
    "                points=dicti[bestkey]\n",
    "                points.append(p)\n",
    "            else:\n",
    "                dicti[name]=[p]\n",
    "\n",
    "    totals={}\n",
    "\n",
    "    for name in dicti:\n",
    "        points=dicti[name]\n",
    "        points.sort(reverse=True)\n",
    "        total=points[0:6]\n",
    "        totals[name]=sum(total)\n",
    "\n",
    "\n",
    "    sorted_totals = sorted(totals.items(), key=operator.itemgetter(1), reverse=True)\n",
    "\n",
    "    i=1\n",
    "    for item in sorted_totals:\n",
    "        print str(int(item[1]))+','+item[0]\n",
    "        i=i+1"
   ]
  },
  {
   "cell_type": "code",
   "execution_count": 7,
   "metadata": {
    "collapsed": false
   },
   "outputs": [
    {
     "ename": "TypeError",
     "evalue": "'type' object has no attribute '__getitem__'",
     "output_type": "error",
     "traceback": [
      "\u001b[1;31m---------------------------------------------------------------------------\u001b[0m",
      "\u001b[1;31mTypeError\u001b[0m                                 Traceback (most recent call last)",
      "\u001b[1;32m<ipython-input-7-0f752532c4cb>\u001b[0m in \u001b[0;36m<module>\u001b[1;34m()\u001b[0m\n\u001b[1;32m----> 1\u001b[1;33m \u001b[0mtest\u001b[0m\u001b[1;33m=\u001b[0m\u001b[0mdict\u001b[0m\u001b[1;33m[\u001b[0m\u001b[1;34m'Ben Heller'\u001b[0m\u001b[1;33m]\u001b[0m\u001b[1;33m\u001b[0m\u001b[0m\n\u001b[0m\u001b[0;32m      2\u001b[0m \u001b[1;33m\u001b[0m\u001b[0m\n\u001b[0;32m      3\u001b[0m \u001b[1;32mprint\u001b[0m \u001b[0mtest\u001b[0m\u001b[1;33m\u001b[0m\u001b[0m\n\u001b[0;32m      4\u001b[0m \u001b[1;32mprint\u001b[0m \u001b[0mtest\u001b[0m\u001b[1;33m.\u001b[0m\u001b[0msort\u001b[0m\u001b[1;33m(\u001b[0m\u001b[0mreverse\u001b[0m\u001b[1;33m=\u001b[0m\u001b[0mTrue\u001b[0m\u001b[1;33m)\u001b[0m\u001b[1;33m\u001b[0m\u001b[0m\n\u001b[0;32m      5\u001b[0m \u001b[1;32mprint\u001b[0m \u001b[0mtest\u001b[0m\u001b[1;33m\u001b[0m\u001b[0m\n",
      "\u001b[1;31mTypeError\u001b[0m: 'type' object has no attribute '__getitem__'"
     ]
    }
   ],
   "source": [
    "test=dict['Ben Heller']\n",
    "\n",
    "print test\n",
    "print test.sort(reverse=True)\n",
    "print test"
   ]
  },
  {
   "cell_type": "code",
   "execution_count": 8,
   "metadata": {
    "collapsed": false
   },
   "outputs": [
    {
     "name": "stdout",
     "output_type": "stream",
     "text": [
      "[1, 2, 3, 4, 5]\n"
     ]
    }
   ],
   "source": [
    "test=[1,2,3,4,5]\n",
    "print test[0:10]"
   ]
  },
  {
   "cell_type": "code",
   "execution_count": 12,
   "metadata": {
    "collapsed": true
   },
   "outputs": [],
   "source": []
  },
  {
   "cell_type": "code",
   "execution_count": 19,
   "metadata": {
    "collapsed": false
   },
   "outputs": [
    {
     "name": "stdout",
     "output_type": "stream",
     "text": [
      "0.818181818182\n"
     ]
    }
   ],
   "source": [
    "m=SequenceMatcher(None, \"Mick Blicker\", \"M. Blicker\")\n",
    "print m.ratio()"
   ]
  },
  {
   "cell_type": "code",
   "execution_count": null,
   "metadata": {
    "collapsed": true
   },
   "outputs": [],
   "source": []
  }
 ],
 "metadata": {
  "kernelspec": {
   "display_name": "Python 2",
   "language": "python",
   "name": "python2"
  },
  "language_info": {
   "codemirror_mode": {
    "name": "ipython",
    "version": 2
   },
   "file_extension": ".py",
   "mimetype": "text/x-python",
   "name": "python",
   "nbconvert_exporter": "python",
   "pygments_lexer": "ipython2",
   "version": "2.7.11"
  }
 },
 "nbformat": 4,
 "nbformat_minor": 0
}
