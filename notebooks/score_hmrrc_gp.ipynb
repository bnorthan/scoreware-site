{
 "cells": [
  {
   "cell_type": "code",
   "execution_count": 1,
   "metadata": {
    "collapsed": true
   },
   "outputs": [],
   "source": [
    "import pandas as pd"
   ]
  },
  {
   "cell_type": "code",
   "execution_count": 2,
   "metadata": {
    "collapsed": false
   },
   "outputs": [
    {
     "name": "stdout",
     "output_type": "stream",
     "text": [
      "(68, 9)\n"
     ]
    },
    {
     "data": {
      "text/html": [
       "<div>\n",
       "<table border=\"1\" class=\"dataframe\">\n",
       "  <thead>\n",
       "    <tr style=\"text-align: right;\">\n",
       "      <th></th>\n",
       "      <th>Place</th>\n",
       "      <th>Ag</th>\n",
       "      <th>Sex</th>\n",
       "      <th>St</th>\n",
       "      <th>Time</th>\n",
       "      <th>Pace</th>\n",
       "      <th>FIRST_NAME</th>\n",
       "      <th>LAST_NAME</th>\n",
       "      <th>member</th>\n",
       "    </tr>\n",
       "  </thead>\n",
       "  <tbody>\n",
       "    <tr>\n",
       "      <th>0</th>\n",
       "      <td>1</td>\n",
       "      <td>24</td>\n",
       "      <td>M</td>\n",
       "      <td>NY</td>\n",
       "      <td>00:48:35</td>\n",
       "      <td>6:05</td>\n",
       "      <td>Eric</td>\n",
       "      <td>Young</td>\n",
       "      <td>yes</td>\n",
       "    </tr>\n",
       "    <tr>\n",
       "      <th>1</th>\n",
       "      <td>2</td>\n",
       "      <td>26</td>\n",
       "      <td>M</td>\n",
       "      <td>NY</td>\n",
       "      <td>00:50:54</td>\n",
       "      <td>6:22</td>\n",
       "      <td>Ben</td>\n",
       "      <td>Heller</td>\n",
       "      <td>yes</td>\n",
       "    </tr>\n",
       "    <tr>\n",
       "      <th>2</th>\n",
       "      <td>3</td>\n",
       "      <td>43</td>\n",
       "      <td>M</td>\n",
       "      <td>NY</td>\n",
       "      <td>00:52:18</td>\n",
       "      <td>6:33</td>\n",
       "      <td>Bob</td>\n",
       "      <td>Irwin</td>\n",
       "      <td>yes</td>\n",
       "    </tr>\n",
       "    <tr>\n",
       "      <th>3</th>\n",
       "      <td>4</td>\n",
       "      <td>34</td>\n",
       "      <td>M</td>\n",
       "      <td>NY</td>\n",
       "      <td>00:52:19</td>\n",
       "      <td>6:33</td>\n",
       "      <td>Chuck</td>\n",
       "      <td>Terry</td>\n",
       "      <td>yes</td>\n",
       "    </tr>\n",
       "    <tr>\n",
       "      <th>4</th>\n",
       "      <td>5</td>\n",
       "      <td>52</td>\n",
       "      <td>M</td>\n",
       "      <td>NY</td>\n",
       "      <td>00:52:21</td>\n",
       "      <td>6:33</td>\n",
       "      <td>Mark</td>\n",
       "      <td>Stephenson</td>\n",
       "      <td>yes</td>\n",
       "    </tr>\n",
       "  </tbody>\n",
       "</table>\n",
       "</div>"
      ],
      "text/plain": [
       "   Place  Ag Sex  St      Time  Pace FIRST_NAME   LAST_NAME member\n",
       "0      1  24   M  NY  00:48:35  6:05       Eric       Young    yes\n",
       "1      2  26   M  NY  00:50:54  6:22        Ben      Heller    yes\n",
       "2      3  43   M  NY  00:52:18  6:33        Bob       Irwin    yes\n",
       "3      4  34   M  NY  00:52:19  6:33      Chuck       Terry    yes\n",
       "4      5  52   M  NY  00:52:21  6:33       Mark  Stephenson    yes"
      ]
     },
     "execution_count": 2,
     "metadata": {},
     "output_type": "execute_result"
    }
   ],
   "source": [
    "df=pd.read_csv('../data/2016/DistinguishedService3.csv')\n",
    "print df.shape\n",
    "df.head()"
   ]
  },
  {
   "cell_type": "code",
   "execution_count": 28,
   "metadata": {
    "collapsed": false
   },
   "outputs": [
    {
     "name": "stdout",
     "output_type": "stream",
     "text": [
      "(64, 9)\n"
     ]
    }
   ],
   "source": [
    "hmrrc=df[df['member']=='yes']\n",
    "print hmrrc.shape"
   ]
  },
  {
   "cell_type": "code",
   "execution_count": 29,
   "metadata": {
    "collapsed": false
   },
   "outputs": [
    {
     "data": {
      "text/html": [
       "<div>\n",
       "<table border=\"1\" class=\"dataframe\">\n",
       "  <thead>\n",
       "    <tr style=\"text-align: right;\">\n",
       "      <th></th>\n",
       "      <th>Place</th>\n",
       "      <th>FIRST_NAME</th>\n",
       "      <th>LAST_NAME</th>\n",
       "      <th>Sex</th>\n",
       "      <th>Ag</th>\n",
       "    </tr>\n",
       "  </thead>\n",
       "  <tbody>\n",
       "    <tr>\n",
       "      <th>0</th>\n",
       "      <td>1</td>\n",
       "      <td>Eric</td>\n",
       "      <td>Young</td>\n",
       "      <td>M</td>\n",
       "      <td>24</td>\n",
       "    </tr>\n",
       "    <tr>\n",
       "      <th>1</th>\n",
       "      <td>2</td>\n",
       "      <td>Ben</td>\n",
       "      <td>Heller</td>\n",
       "      <td>M</td>\n",
       "      <td>26</td>\n",
       "    </tr>\n",
       "    <tr>\n",
       "      <th>2</th>\n",
       "      <td>3</td>\n",
       "      <td>Bob</td>\n",
       "      <td>Irwin</td>\n",
       "      <td>M</td>\n",
       "      <td>43</td>\n",
       "    </tr>\n",
       "    <tr>\n",
       "      <th>3</th>\n",
       "      <td>4</td>\n",
       "      <td>Chuck</td>\n",
       "      <td>Terry</td>\n",
       "      <td>M</td>\n",
       "      <td>34</td>\n",
       "    </tr>\n",
       "    <tr>\n",
       "      <th>4</th>\n",
       "      <td>5</td>\n",
       "      <td>Mark</td>\n",
       "      <td>Stephenson</td>\n",
       "      <td>M</td>\n",
       "      <td>52</td>\n",
       "    </tr>\n",
       "  </tbody>\n",
       "</table>\n",
       "</div>"
      ],
      "text/plain": [
       "   Place FIRST_NAME   LAST_NAME Sex  Ag\n",
       "0      1       Eric       Young   M  24\n",
       "1      2        Ben      Heller   M  26\n",
       "2      3        Bob       Irwin   M  43\n",
       "3      4      Chuck       Terry   M  34\n",
       "4      5       Mark  Stephenson   M  52"
      ]
     },
     "execution_count": 29,
     "metadata": {},
     "output_type": "execute_result"
    }
   ],
   "source": [
    "hmrrc=hmrrc[['Place','FIRST_NAME','LAST_NAME','Sex','Ag']]\n",
    "hmrrc.head()"
   ]
  },
  {
   "cell_type": "code",
   "execution_count": 34,
   "metadata": {
    "collapsed": true
   },
   "outputs": [],
   "source": [
    "hmrrc=hmrrc.sort_values(['Sex','Ag','Place'])"
   ]
  },
  {
   "cell_type": "code",
   "execution_count": 35,
   "metadata": {
    "collapsed": false
   },
   "outputs": [
    {
     "data": {
      "text/html": [
       "<div>\n",
       "<table border=\"1\" class=\"dataframe\">\n",
       "  <thead>\n",
       "    <tr style=\"text-align: right;\">\n",
       "      <th></th>\n",
       "      <th>Place</th>\n",
       "      <th>FIRST_NAME</th>\n",
       "      <th>LAST_NAME</th>\n",
       "      <th>Sex</th>\n",
       "      <th>Ag</th>\n",
       "    </tr>\n",
       "  </thead>\n",
       "  <tbody>\n",
       "    <tr>\n",
       "      <th>23</th>\n",
       "      <td>3</td>\n",
       "      <td>Hannah</td>\n",
       "      <td>Gallagher</td>\n",
       "      <td>F</td>\n",
       "      <td>15</td>\n",
       "    </tr>\n",
       "    <tr>\n",
       "      <th>21</th>\n",
       "      <td>2</td>\n",
       "      <td>Alex</td>\n",
       "      <td>Thompson</td>\n",
       "      <td>F</td>\n",
       "      <td>16</td>\n",
       "    </tr>\n",
       "    <tr>\n",
       "      <th>27</th>\n",
       "      <td>4</td>\n",
       "      <td>Meghan</td>\n",
       "      <td>Mortensen</td>\n",
       "      <td>F</td>\n",
       "      <td>30</td>\n",
       "    </tr>\n",
       "    <tr>\n",
       "      <th>17</th>\n",
       "      <td>1</td>\n",
       "      <td>Elizabeth</td>\n",
       "      <td>Chauhan</td>\n",
       "      <td>F</td>\n",
       "      <td>31</td>\n",
       "    </tr>\n",
       "    <tr>\n",
       "      <th>46</th>\n",
       "      <td>12</td>\n",
       "      <td>Meleah</td>\n",
       "      <td>Wright</td>\n",
       "      <td>F</td>\n",
       "      <td>34</td>\n",
       "    </tr>\n",
       "  </tbody>\n",
       "</table>\n",
       "</div>"
      ],
      "text/plain": [
       "    Place FIRST_NAME  LAST_NAME Sex  Ag\n",
       "23      3     Hannah  Gallagher   F  15\n",
       "21      2       Alex   Thompson   F  16\n",
       "27      4     Meghan  Mortensen   F  30\n",
       "17      1  Elizabeth    Chauhan   F  31\n",
       "46     12     Meleah     Wright   F  34"
      ]
     },
     "execution_count": 35,
     "metadata": {},
     "output_type": "execute_result"
    }
   ],
   "source": [
    "hmrrc.head()"
   ]
  },
  {
   "cell_type": "code",
   "execution_count": 49,
   "metadata": {
    "collapsed": false
   },
   "outputs": [],
   "source": [
    "def AgeToCat(age):\n",
    "    if (0<age<30):\n",
    "        return \"a_open\"\n",
    "    if (30<=age<40):\n",
    "        return \"b_30_39\"\n",
    "    if (40<=age<50):\n",
    "        return \"c_40_49\"\n",
    "    if (50<=age<60):\n",
    "        return \"d_50_59\"\n",
    "    if (60<=age<70):\n",
    "        return \"e_60_69\"\n",
    "    if (age>=70):\n",
    "        return \"f_70+\"\n",
    "    "
   ]
  },
  {
   "cell_type": "code",
   "execution_count": 50,
   "metadata": {
    "collapsed": false
   },
   "outputs": [
    {
     "data": {
      "text/html": [
       "<div>\n",
       "<table border=\"1\" class=\"dataframe\">\n",
       "  <thead>\n",
       "    <tr style=\"text-align: right;\">\n",
       "      <th></th>\n",
       "      <th>Place</th>\n",
       "      <th>FIRST_NAME</th>\n",
       "      <th>LAST_NAME</th>\n",
       "      <th>Sex</th>\n",
       "      <th>Ag</th>\n",
       "      <th>age_cat</th>\n",
       "      <th>name</th>\n",
       "    </tr>\n",
       "  </thead>\n",
       "  <tbody>\n",
       "    <tr>\n",
       "      <th>21</th>\n",
       "      <td>2</td>\n",
       "      <td>Alex</td>\n",
       "      <td>Thompson</td>\n",
       "      <td>F</td>\n",
       "      <td>16</td>\n",
       "      <td>a_open</td>\n",
       "      <td>Alex Thompson</td>\n",
       "    </tr>\n",
       "    <tr>\n",
       "      <th>23</th>\n",
       "      <td>3</td>\n",
       "      <td>Hannah</td>\n",
       "      <td>Gallagher</td>\n",
       "      <td>F</td>\n",
       "      <td>15</td>\n",
       "      <td>a_open</td>\n",
       "      <td>Hannah Gallagher</td>\n",
       "    </tr>\n",
       "    <tr>\n",
       "      <th>17</th>\n",
       "      <td>1</td>\n",
       "      <td>Elizabeth</td>\n",
       "      <td>Chauhan</td>\n",
       "      <td>F</td>\n",
       "      <td>31</td>\n",
       "      <td>b_30_39</td>\n",
       "      <td>Elizabeth Chauhan</td>\n",
       "    </tr>\n",
       "    <tr>\n",
       "      <th>27</th>\n",
       "      <td>4</td>\n",
       "      <td>Meghan</td>\n",
       "      <td>Mortensen</td>\n",
       "      <td>F</td>\n",
       "      <td>30</td>\n",
       "      <td>b_30_39</td>\n",
       "      <td>Meghan Mortensen</td>\n",
       "    </tr>\n",
       "    <tr>\n",
       "      <th>37</th>\n",
       "      <td>9</td>\n",
       "      <td>Larissa</td>\n",
       "      <td>Bates</td>\n",
       "      <td>F</td>\n",
       "      <td>35</td>\n",
       "      <td>b_30_39</td>\n",
       "      <td>Larissa Bates</td>\n",
       "    </tr>\n",
       "  </tbody>\n",
       "</table>\n",
       "</div>"
      ],
      "text/plain": [
       "    Place FIRST_NAME  LAST_NAME Sex  Ag  age_cat               name\n",
       "21      2       Alex   Thompson   F  16   a_open      Alex Thompson\n",
       "23      3     Hannah  Gallagher   F  15   a_open   Hannah Gallagher\n",
       "17      1  Elizabeth    Chauhan   F  31  b_30_39  Elizabeth Chauhan\n",
       "27      4     Meghan  Mortensen   F  30  b_30_39   Meghan Mortensen\n",
       "37      9    Larissa      Bates   F  35  b_30_39      Larissa Bates"
      ]
     },
     "execution_count": 50,
     "metadata": {},
     "output_type": "execute_result"
    }
   ],
   "source": [
    "hmrrc[\"age_cat\"]=hmrrc.Ag.apply(lambda x:AgeToCat(x))\n",
    "hmrrc.head()"
   ]
  },
  {
   "cell_type": "code",
   "execution_count": 51,
   "metadata": {
    "collapsed": false
   },
   "outputs": [
    {
     "data": {
      "text/html": [
       "<div>\n",
       "<table border=\"1\" class=\"dataframe\">\n",
       "  <thead>\n",
       "    <tr style=\"text-align: right;\">\n",
       "      <th></th>\n",
       "      <th>Place</th>\n",
       "      <th>FIRST_NAME</th>\n",
       "      <th>LAST_NAME</th>\n",
       "      <th>Sex</th>\n",
       "      <th>Ag</th>\n",
       "      <th>age_cat</th>\n",
       "      <th>name</th>\n",
       "    </tr>\n",
       "  </thead>\n",
       "  <tbody>\n",
       "    <tr>\n",
       "      <th>21</th>\n",
       "      <td>2</td>\n",
       "      <td>Alex</td>\n",
       "      <td>Thompson</td>\n",
       "      <td>F</td>\n",
       "      <td>16</td>\n",
       "      <td>a_open</td>\n",
       "      <td>Alex Thompson</td>\n",
       "    </tr>\n",
       "    <tr>\n",
       "      <th>23</th>\n",
       "      <td>3</td>\n",
       "      <td>Hannah</td>\n",
       "      <td>Gallagher</td>\n",
       "      <td>F</td>\n",
       "      <td>15</td>\n",
       "      <td>a_open</td>\n",
       "      <td>Hannah Gallagher</td>\n",
       "    </tr>\n",
       "    <tr>\n",
       "      <th>17</th>\n",
       "      <td>1</td>\n",
       "      <td>Elizabeth</td>\n",
       "      <td>Chauhan</td>\n",
       "      <td>F</td>\n",
       "      <td>31</td>\n",
       "      <td>b_30_39</td>\n",
       "      <td>Elizabeth Chauhan</td>\n",
       "    </tr>\n",
       "    <tr>\n",
       "      <th>27</th>\n",
       "      <td>4</td>\n",
       "      <td>Meghan</td>\n",
       "      <td>Mortensen</td>\n",
       "      <td>F</td>\n",
       "      <td>30</td>\n",
       "      <td>b_30_39</td>\n",
       "      <td>Meghan Mortensen</td>\n",
       "    </tr>\n",
       "    <tr>\n",
       "      <th>37</th>\n",
       "      <td>9</td>\n",
       "      <td>Larissa</td>\n",
       "      <td>Bates</td>\n",
       "      <td>F</td>\n",
       "      <td>35</td>\n",
       "      <td>b_30_39</td>\n",
       "      <td>Larissa Bates</td>\n",
       "    </tr>\n",
       "  </tbody>\n",
       "</table>\n",
       "</div>"
      ],
      "text/plain": [
       "    Place FIRST_NAME  LAST_NAME Sex  Ag  age_cat               name\n",
       "21      2       Alex   Thompson   F  16   a_open      Alex Thompson\n",
       "23      3     Hannah  Gallagher   F  15   a_open   Hannah Gallagher\n",
       "17      1  Elizabeth    Chauhan   F  31  b_30_39  Elizabeth Chauhan\n",
       "27      4     Meghan  Mortensen   F  30  b_30_39   Meghan Mortensen\n",
       "37      9    Larissa      Bates   F  35  b_30_39      Larissa Bates"
      ]
     },
     "execution_count": 51,
     "metadata": {},
     "output_type": "execute_result"
    }
   ],
   "source": [
    "hmrrc=hmrrc.sort_values(['Sex','age_cat','Place'])\n",
    "hmrrc.head()"
   ]
  },
  {
   "cell_type": "code",
   "execution_count": 52,
   "metadata": {
    "collapsed": false
   },
   "outputs": [
    {
     "data": {
      "text/html": [
       "<div>\n",
       "<table border=\"1\" class=\"dataframe\">\n",
       "  <thead>\n",
       "    <tr style=\"text-align: right;\">\n",
       "      <th></th>\n",
       "      <th>Place</th>\n",
       "      <th>FIRST_NAME</th>\n",
       "      <th>LAST_NAME</th>\n",
       "      <th>Sex</th>\n",
       "      <th>Ag</th>\n",
       "      <th>age_cat</th>\n",
       "      <th>name</th>\n",
       "    </tr>\n",
       "  </thead>\n",
       "  <tbody>\n",
       "    <tr>\n",
       "      <th>21</th>\n",
       "      <td>2</td>\n",
       "      <td>Alex</td>\n",
       "      <td>Thompson</td>\n",
       "      <td>F</td>\n",
       "      <td>16</td>\n",
       "      <td>a_open</td>\n",
       "      <td>Alex Thompson</td>\n",
       "    </tr>\n",
       "    <tr>\n",
       "      <th>23</th>\n",
       "      <td>3</td>\n",
       "      <td>Hannah</td>\n",
       "      <td>Gallagher</td>\n",
       "      <td>F</td>\n",
       "      <td>15</td>\n",
       "      <td>a_open</td>\n",
       "      <td>Hannah Gallagher</td>\n",
       "    </tr>\n",
       "    <tr>\n",
       "      <th>17</th>\n",
       "      <td>1</td>\n",
       "      <td>Elizabeth</td>\n",
       "      <td>Chauhan</td>\n",
       "      <td>F</td>\n",
       "      <td>31</td>\n",
       "      <td>b_30_39</td>\n",
       "      <td>Elizabeth Chauhan</td>\n",
       "    </tr>\n",
       "    <tr>\n",
       "      <th>27</th>\n",
       "      <td>4</td>\n",
       "      <td>Meghan</td>\n",
       "      <td>Mortensen</td>\n",
       "      <td>F</td>\n",
       "      <td>30</td>\n",
       "      <td>b_30_39</td>\n",
       "      <td>Meghan Mortensen</td>\n",
       "    </tr>\n",
       "    <tr>\n",
       "      <th>37</th>\n",
       "      <td>9</td>\n",
       "      <td>Larissa</td>\n",
       "      <td>Bates</td>\n",
       "      <td>F</td>\n",
       "      <td>35</td>\n",
       "      <td>b_30_39</td>\n",
       "      <td>Larissa Bates</td>\n",
       "    </tr>\n",
       "  </tbody>\n",
       "</table>\n",
       "</div>"
      ],
      "text/plain": [
       "    Place FIRST_NAME  LAST_NAME Sex  Ag  age_cat               name\n",
       "21      2       Alex   Thompson   F  16   a_open      Alex Thompson\n",
       "23      3     Hannah  Gallagher   F  15   a_open   Hannah Gallagher\n",
       "17      1  Elizabeth    Chauhan   F  31  b_30_39  Elizabeth Chauhan\n",
       "27      4     Meghan  Mortensen   F  30  b_30_39   Meghan Mortensen\n",
       "37      9    Larissa      Bates   F  35  b_30_39      Larissa Bates"
      ]
     },
     "execution_count": 52,
     "metadata": {},
     "output_type": "execute_result"
    }
   ],
   "source": [
    "hmrrc['name']=hmrrc.FIRST_NAME+\" \"+hmrrc.LAST_NAME\n",
    "hmrrc.head()"
   ]
  },
  {
   "cell_type": "code",
   "execution_count": 53,
   "metadata": {
    "collapsed": true
   },
   "outputs": [],
   "source": [
    "hmrrc.to_csv('../data/2016/DistinguishedServiceScored.csv')"
   ]
  },
  {
   "cell_type": "code",
   "execution_count": null,
   "metadata": {
    "collapsed": true
   },
   "outputs": [],
   "source": []
  }
 ],
 "metadata": {
  "kernelspec": {
   "display_name": "Python 2",
   "language": "python",
   "name": "python2"
  },
  "language_info": {
   "codemirror_mode": {
    "name": "ipython",
    "version": 2
   },
   "file_extension": ".py",
   "mimetype": "text/x-python",
   "name": "python",
   "nbconvert_exporter": "python",
   "pygments_lexer": "ipython2",
   "version": "2.7.11"
  }
 },
 "nbformat": 4,
 "nbformat_minor": 0
}
