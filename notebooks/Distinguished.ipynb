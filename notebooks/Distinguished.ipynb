{
 "cells": [
  {
   "cell_type": "code",
   "execution_count": 2,
   "metadata": {
    "collapsed": true
   },
   "outputs": [],
   "source": [
    "import pandas as pd"
   ]
  },
  {
   "cell_type": "code",
   "execution_count": 19,
   "metadata": {
    "collapsed": false
   },
   "outputs": [
    {
     "data": {
      "text/html": [
       "<div>\n",
       "<table border=\"1\" class=\"dataframe\">\n",
       "  <thead>\n",
       "    <tr style=\"text-align: right;\">\n",
       "      <th></th>\n",
       "      <th>Unnamed: 0</th>\n",
       "      <th>Place</th>\n",
       "      <th>Name</th>\n",
       "      <th>Ag</th>\n",
       "      <th>Sex</th>\n",
       "      <th>St</th>\n",
       "      <th>Time</th>\n",
       "      <th>Pace</th>\n",
       "    </tr>\n",
       "  </thead>\n",
       "  <tbody>\n",
       "    <tr>\n",
       "      <th>0</th>\n",
       "      <td>23</td>\n",
       "      <td>1</td>\n",
       "      <td>Eric Young</td>\n",
       "      <td>24</td>\n",
       "      <td>M</td>\n",
       "      <td>NY</td>\n",
       "      <td>00:48:35</td>\n",
       "      <td>6:05</td>\n",
       "    </tr>\n",
       "    <tr>\n",
       "      <th>1</th>\n",
       "      <td>24</td>\n",
       "      <td>2</td>\n",
       "      <td>Ben Heller</td>\n",
       "      <td>26</td>\n",
       "      <td>M</td>\n",
       "      <td>NY</td>\n",
       "      <td>00:50:54</td>\n",
       "      <td>6:22</td>\n",
       "    </tr>\n",
       "    <tr>\n",
       "      <th>2</th>\n",
       "      <td>25</td>\n",
       "      <td>3</td>\n",
       "      <td>Bob Irwin</td>\n",
       "      <td>43</td>\n",
       "      <td>M</td>\n",
       "      <td>NY</td>\n",
       "      <td>00:52:18</td>\n",
       "      <td>6:33</td>\n",
       "    </tr>\n",
       "    <tr>\n",
       "      <th>3</th>\n",
       "      <td>26</td>\n",
       "      <td>4</td>\n",
       "      <td>Chuck Terry</td>\n",
       "      <td>34</td>\n",
       "      <td>M</td>\n",
       "      <td>NY</td>\n",
       "      <td>00:52:19</td>\n",
       "      <td>6:33</td>\n",
       "    </tr>\n",
       "    <tr>\n",
       "      <th>4</th>\n",
       "      <td>27</td>\n",
       "      <td>5</td>\n",
       "      <td>Mark Stephenson</td>\n",
       "      <td>52</td>\n",
       "      <td>M</td>\n",
       "      <td>NY</td>\n",
       "      <td>00:52:21</td>\n",
       "      <td>6:33</td>\n",
       "    </tr>\n",
       "  </tbody>\n",
       "</table>\n",
       "</div>"
      ],
      "text/plain": [
       "   Unnamed: 0  Place             Name  Ag Sex  St      Time  Pace\n",
       "0          23      1       Eric Young  24   M  NY  00:48:35  6:05\n",
       "1          24      2       Ben Heller  26   M  NY  00:50:54  6:22\n",
       "2          25      3        Bob Irwin  43   M  NY  00:52:18  6:33\n",
       "3          26      4      Chuck Terry  34   M  NY  00:52:19  6:33\n",
       "4          27      5  Mark Stephenson  52   M  NY  00:52:21  6:33"
      ]
     },
     "execution_count": 19,
     "metadata": {},
     "output_type": "execute_result"
    }
   ],
   "source": [
    "ds=pd.read_csv('../data/2016/DistinguishedService.txt')\n",
    "ds.head()"
   ]
  },
  {
   "cell_type": "code",
   "execution_count": 20,
   "metadata": {
    "collapsed": false
   },
   "outputs": [
    {
     "data": {
      "text/html": [
       "<div>\n",
       "<table border=\"1\" class=\"dataframe\">\n",
       "  <thead>\n",
       "    <tr style=\"text-align: right;\">\n",
       "      <th></th>\n",
       "      <th>Place</th>\n",
       "      <th>Ag</th>\n",
       "      <th>Sex</th>\n",
       "      <th>St</th>\n",
       "      <th>Time</th>\n",
       "      <th>Pace</th>\n",
       "      <th>FIRST_NAME</th>\n",
       "      <th>LAST_NAME</th>\n",
       "    </tr>\n",
       "  </thead>\n",
       "  <tbody>\n",
       "    <tr>\n",
       "      <th>0</th>\n",
       "      <td>1</td>\n",
       "      <td>24</td>\n",
       "      <td>M</td>\n",
       "      <td>NY</td>\n",
       "      <td>00:48:35</td>\n",
       "      <td>6:05</td>\n",
       "      <td>Eric</td>\n",
       "      <td>Young</td>\n",
       "    </tr>\n",
       "    <tr>\n",
       "      <th>1</th>\n",
       "      <td>2</td>\n",
       "      <td>26</td>\n",
       "      <td>M</td>\n",
       "      <td>NY</td>\n",
       "      <td>00:50:54</td>\n",
       "      <td>6:22</td>\n",
       "      <td>Ben</td>\n",
       "      <td>Heller</td>\n",
       "    </tr>\n",
       "    <tr>\n",
       "      <th>2</th>\n",
       "      <td>3</td>\n",
       "      <td>43</td>\n",
       "      <td>M</td>\n",
       "      <td>NY</td>\n",
       "      <td>00:52:18</td>\n",
       "      <td>6:33</td>\n",
       "      <td>Bob</td>\n",
       "      <td>Irwin</td>\n",
       "    </tr>\n",
       "    <tr>\n",
       "      <th>3</th>\n",
       "      <td>4</td>\n",
       "      <td>34</td>\n",
       "      <td>M</td>\n",
       "      <td>NY</td>\n",
       "      <td>00:52:19</td>\n",
       "      <td>6:33</td>\n",
       "      <td>Chuck</td>\n",
       "      <td>Terry</td>\n",
       "    </tr>\n",
       "    <tr>\n",
       "      <th>4</th>\n",
       "      <td>5</td>\n",
       "      <td>52</td>\n",
       "      <td>M</td>\n",
       "      <td>NY</td>\n",
       "      <td>00:52:21</td>\n",
       "      <td>6:33</td>\n",
       "      <td>Mark</td>\n",
       "      <td>Stephenson</td>\n",
       "    </tr>\n",
       "  </tbody>\n",
       "</table>\n",
       "</div>"
      ],
      "text/plain": [
       "   Place  Ag Sex  St      Time  Pace FIRST_NAME   LAST_NAME\n",
       "0      1  24   M  NY  00:48:35  6:05       Eric       Young\n",
       "1      2  26   M  NY  00:50:54  6:22        Ben      Heller\n",
       "2      3  43   M  NY  00:52:18  6:33        Bob       Irwin\n",
       "3      4  34   M  NY  00:52:19  6:33      Chuck       Terry\n",
       "4      5  52   M  NY  00:52:21  6:33       Mark  Stephenson"
      ]
     },
     "execution_count": 20,
     "metadata": {},
     "output_type": "execute_result"
    }
   ],
   "source": [
    "test = pd.DataFrame(ds.Name.str.split(' ',1).tolist(),\n",
    "                                   columns = ['FIRST_NAME','LAST_NAME'])\n",
    "\n",
    "ds=ds.drop('Name',1)\n",
    "ds=ds.join(test)\n",
    "ds=ds.drop('Unnamed: 0',1)\n",
    "ds.head()"
   ]
  },
  {
   "cell_type": "code",
   "execution_count": 5,
   "metadata": {
    "collapsed": true
   },
   "outputs": [],
   "source": [
    "def time_to_hhmmss_str(time):\n",
    "    ts=time.split(':')\n",
    "    if int(ts[0])>10:\n",
    "        strtime='00:'+ts[0]+':'+ts[1]\n",
    "    else:\n",
    "        strtime=ts[0]+':'+ts[1]+':'+ts[2]\n",
    "    return strtime\n"
   ]
  },
  {
   "cell_type": "code",
   "execution_count": 6,
   "metadata": {
    "collapsed": true
   },
   "outputs": [],
   "source": [
    "import sys\n",
    "sys.path.append('../util/race/')\n",
    "\n",
    "import utils\n",
    "reload(utils)\n",
    "from utils import time_to_hh_mm_ss_str"
   ]
  },
  {
   "cell_type": "code",
   "execution_count": 7,
   "metadata": {
    "collapsed": true
   },
   "outputs": [],
   "source": [
    "ds['Time']=ds.Time.apply(lambda x: time_to_hh_mm_ss_str(x))"
   ]
  },
  {
   "cell_type": "code",
   "execution_count": 8,
   "metadata": {
    "collapsed": false
   },
   "outputs": [
    {
     "data": {
      "text/html": [
       "<div>\n",
       "<table border=\"1\" class=\"dataframe\">\n",
       "  <thead>\n",
       "    <tr style=\"text-align: right;\">\n",
       "      <th></th>\n",
       "      <th>Place</th>\n",
       "      <th>Name</th>\n",
       "      <th>Ag</th>\n",
       "      <th>Sex</th>\n",
       "      <th>St</th>\n",
       "      <th>Time</th>\n",
       "      <th>Pace</th>\n",
       "    </tr>\n",
       "  </thead>\n",
       "  <tbody>\n",
       "    <tr>\n",
       "      <th>0</th>\n",
       "      <td>1</td>\n",
       "      <td>Elizabeth Chauhan</td>\n",
       "      <td>31</td>\n",
       "      <td>F</td>\n",
       "      <td>NY</td>\n",
       "      <td>1:01:14</td>\n",
       "      <td>7:40</td>\n",
       "    </tr>\n",
       "    <tr>\n",
       "      <th>1</th>\n",
       "      <td>2</td>\n",
       "      <td>Alex Thompson</td>\n",
       "      <td>16</td>\n",
       "      <td>F</td>\n",
       "      <td>NY</td>\n",
       "      <td>1:04:17</td>\n",
       "      <td>8:03</td>\n",
       "    </tr>\n",
       "    <tr>\n",
       "      <th>2</th>\n",
       "      <td>3</td>\n",
       "      <td>Hannah Gallagher</td>\n",
       "      <td>15</td>\n",
       "      <td>F</td>\n",
       "      <td>NY</td>\n",
       "      <td>1:04:24</td>\n",
       "      <td>8:03</td>\n",
       "    </tr>\n",
       "    <tr>\n",
       "      <th>3</th>\n",
       "      <td>4</td>\n",
       "      <td>Meghan Mortensen</td>\n",
       "      <td>30</td>\n",
       "      <td>F</td>\n",
       "      <td>NY</td>\n",
       "      <td>1:09:41</td>\n",
       "      <td>8:43</td>\n",
       "    </tr>\n",
       "    <tr>\n",
       "      <th>4</th>\n",
       "      <td>5</td>\n",
       "      <td>Martha Degrazia</td>\n",
       "      <td>65</td>\n",
       "      <td>F</td>\n",
       "      <td>NY</td>\n",
       "      <td>1:10:35</td>\n",
       "      <td>8:50</td>\n",
       "    </tr>\n",
       "  </tbody>\n",
       "</table>\n",
       "</div>"
      ],
      "text/plain": [
       "   Place               Name  Ag Sex  St     Time  Pace\n",
       "0      1  Elizabeth Chauhan  31   F  NY  1:01:14  7:40\n",
       "1      2      Alex Thompson  16   F  NY  1:04:17  8:03\n",
       "2      3   Hannah Gallagher  15   F  NY  1:04:24  8:03\n",
       "3      4   Meghan Mortensen  30   F  NY  1:09:41  8:43\n",
       "4      5    Martha Degrazia  65   F  NY  1:10:35  8:50"
      ]
     },
     "execution_count": 8,
     "metadata": {},
     "output_type": "execute_result"
    }
   ],
   "source": [
    "ds.head()"
   ]
  },
  {
   "cell_type": "code",
   "execution_count": 9,
   "metadata": {
    "collapsed": false
   },
   "outputs": [
    {
     "name": "stderr",
     "output_type": "stream",
     "text": [
      "/home/bnorthan/anaconda/lib/python2.7/site-packages/IPython/kernel/__main__.py:1: FutureWarning: sort(columns=....) is deprecated, use sort_values(by=.....)\n",
      "  if __name__ == '__main__':\n"
     ]
    }
   ],
   "source": [
    "ds=ds.sort(['Time'],ascending=True)"
   ]
  },
  {
   "cell_type": "code",
   "execution_count": 10,
   "metadata": {
    "collapsed": false
   },
   "outputs": [
    {
     "data": {
      "text/html": [
       "<div>\n",
       "<table border=\"1\" class=\"dataframe\">\n",
       "  <thead>\n",
       "    <tr style=\"text-align: right;\">\n",
       "      <th></th>\n",
       "      <th>Place</th>\n",
       "      <th>Name</th>\n",
       "      <th>Ag</th>\n",
       "      <th>Sex</th>\n",
       "      <th>St</th>\n",
       "      <th>Time</th>\n",
       "      <th>Pace</th>\n",
       "    </tr>\n",
       "  </thead>\n",
       "  <tbody>\n",
       "    <tr>\n",
       "      <th>23</th>\n",
       "      <td>1</td>\n",
       "      <td>Eric Young</td>\n",
       "      <td>24</td>\n",
       "      <td>M</td>\n",
       "      <td>NY</td>\n",
       "      <td>00:48:35</td>\n",
       "      <td>6:05</td>\n",
       "    </tr>\n",
       "    <tr>\n",
       "      <th>24</th>\n",
       "      <td>2</td>\n",
       "      <td>Ben Heller</td>\n",
       "      <td>26</td>\n",
       "      <td>M</td>\n",
       "      <td>NY</td>\n",
       "      <td>00:50:54</td>\n",
       "      <td>6:22</td>\n",
       "    </tr>\n",
       "    <tr>\n",
       "      <th>25</th>\n",
       "      <td>3</td>\n",
       "      <td>Bob Irwin</td>\n",
       "      <td>43</td>\n",
       "      <td>M</td>\n",
       "      <td>NY</td>\n",
       "      <td>00:52:18</td>\n",
       "      <td>6:33</td>\n",
       "    </tr>\n",
       "    <tr>\n",
       "      <th>26</th>\n",
       "      <td>4</td>\n",
       "      <td>Chuck Terry</td>\n",
       "      <td>34</td>\n",
       "      <td>M</td>\n",
       "      <td>NY</td>\n",
       "      <td>00:52:19</td>\n",
       "      <td>6:33</td>\n",
       "    </tr>\n",
       "    <tr>\n",
       "      <th>27</th>\n",
       "      <td>5</td>\n",
       "      <td>Mark Stephenson</td>\n",
       "      <td>52</td>\n",
       "      <td>M</td>\n",
       "      <td>NY</td>\n",
       "      <td>00:52:21</td>\n",
       "      <td>6:33</td>\n",
       "    </tr>\n",
       "  </tbody>\n",
       "</table>\n",
       "</div>"
      ],
      "text/plain": [
       "    Place             Name  Ag Sex  St      Time  Pace\n",
       "23      1       Eric Young  24   M  NY  00:48:35  6:05\n",
       "24      2       Ben Heller  26   M  NY  00:50:54  6:22\n",
       "25      3        Bob Irwin  43   M  NY  00:52:18  6:33\n",
       "26      4      Chuck Terry  34   M  NY  00:52:19  6:33\n",
       "27      5  Mark Stephenson  52   M  NY  00:52:21  6:33"
      ]
     },
     "execution_count": 10,
     "metadata": {},
     "output_type": "execute_result"
    }
   ],
   "source": [
    "ds.head()"
   ]
  },
  {
   "cell_type": "code",
   "execution_count": 26,
   "metadata": {
    "collapsed": false
   },
   "outputs": [],
   "source": [
    "\n",
    "ds.to_csv('../data/2016/DistinguishedService2.csv',index=False)"
   ]
  },
  {
   "cell_type": "code",
   "execution_count": null,
   "metadata": {
    "collapsed": true
   },
   "outputs": [],
   "source": []
  }
 ],
 "metadata": {
  "kernelspec": {
   "display_name": "Python 2",
   "language": "python",
   "name": "python2"
  },
  "language_info": {
   "codemirror_mode": {
    "name": "ipython",
    "version": 2
   },
   "file_extension": ".py",
   "mimetype": "text/x-python",
   "name": "python",
   "nbconvert_exporter": "python",
   "pygments_lexer": "ipython2",
   "version": "2.7.11"
  }
 },
 "nbformat": 4,
 "nbformat_minor": 0
}
