{
 "cells": [
  {
   "cell_type": "code",
   "execution_count": 9,
   "metadata": {
    "collapsed": false
   },
   "outputs": [
    {
     "data": {
      "text/plain": [
       "<module 'matcher' from '../util/runner/matcher.pyc'>"
      ]
     },
     "execution_count": 9,
     "metadata": {},
     "output_type": "execute_result"
    }
   ],
   "source": [
    "import pandas as pd\n",
    "\n",
    "import sys\n",
    "sys.path.append('../util/runner/')\n",
    "\n",
    "import matcher\n",
    "reload(matcher)\n"
   ]
  },
  {
   "cell_type": "code",
   "execution_count": 10,
   "metadata": {
    "collapsed": false
   },
   "outputs": [
    {
     "data": {
      "text/plain": [
       "(2895, 15)"
      ]
     },
     "execution_count": 10,
     "metadata": {},
     "output_type": "execute_result"
    }
   ],
   "source": [
    "hmrrc=pd.read_csv('../data/2016/2016-06-12MembersHudson.csv')\n",
    "hmrrc.shape"
   ]
  },
  {
   "cell_type": "code",
   "execution_count": 11,
   "metadata": {
    "collapsed": false
   },
   "outputs": [
    {
     "data": {
      "text/html": [
       "<div>\n",
       "<table border=\"1\" class=\"dataframe\">\n",
       "  <thead>\n",
       "    <tr style=\"text-align: right;\">\n",
       "      <th></th>\n",
       "      <th>﻿Member ID</th>\n",
       "      <th>First name</th>\n",
       "      <th>Last name</th>\n",
       "      <th>Gender</th>\n",
       "      <th>Phone</th>\n",
       "      <th>e-Mail</th>\n",
       "      <th>Birthdate (e.g., 01 Jun 1954)</th>\n",
       "      <th>City</th>\n",
       "      <th>State</th>\n",
       "      <th>Zip code</th>\n",
       "      <th>Created on</th>\n",
       "      <th>Membership enabled</th>\n",
       "      <th>Membership level</th>\n",
       "      <th>Membership status</th>\n",
       "      <th>Member bundle ID or email</th>\n",
       "    </tr>\n",
       "  </thead>\n",
       "  <tbody>\n",
       "    <tr>\n",
       "      <th>0</th>\n",
       "      <td>257647</td>\n",
       "      <td>New England Runner</td>\n",
       "      <td>_</td>\n",
       "      <td>O</td>\n",
       "      <td>555-5555</td>\n",
       "      <td>NEW03582000@hmrrc.com</td>\n",
       "      <td>01 Jan 2008</td>\n",
       "      <td>South Weymouth</td>\n",
       "      <td>MA</td>\n",
       "      <td>02190</td>\n",
       "      <td>02/08/2008 22:05:19</td>\n",
       "      <td>yes</td>\n",
       "      <td>Lifetime</td>\n",
       "      <td>Active</td>\n",
       "      <td>NaN</td>\n",
       "    </tr>\n",
       "    <tr>\n",
       "      <th>1</th>\n",
       "      <td>257804</td>\n",
       "      <td>The Adirondack Runners</td>\n",
       "      <td>_</td>\n",
       "      <td>O</td>\n",
       "      <td>555-5555</td>\n",
       "      <td>ADI06362000@hmrrc.com</td>\n",
       "      <td>01 Jan 2008</td>\n",
       "      <td>Glens Falls</td>\n",
       "      <td>NY</td>\n",
       "      <td>12801</td>\n",
       "      <td>02/08/2008 22:06:37</td>\n",
       "      <td>yes</td>\n",
       "      <td>Individual</td>\n",
       "      <td>Active</td>\n",
       "      <td>NaN</td>\n",
       "    </tr>\n",
       "    <tr>\n",
       "      <th>2</th>\n",
       "      <td>258209</td>\n",
       "      <td>Screen Designs, Inc.</td>\n",
       "      <td>_</td>\n",
       "      <td>0</td>\n",
       "      <td>555-5555</td>\n",
       "      <td>SCR09991000@hmrrc.com</td>\n",
       "      <td>01 Jan 2008</td>\n",
       "      <td>000</td>\n",
       "      <td>00</td>\n",
       "      <td>000</td>\n",
       "      <td>02/08/2008 22:11:38</td>\n",
       "      <td>yes</td>\n",
       "      <td>Individual</td>\n",
       "      <td>Active</td>\n",
       "      <td>NaN</td>\n",
       "    </tr>\n",
       "    <tr>\n",
       "      <th>3</th>\n",
       "      <td>9304029</td>\n",
       "      <td>Matthew</td>\n",
       "      <td>Abatto</td>\n",
       "      <td>Male</td>\n",
       "      <td>NaN</td>\n",
       "      <td>mabatto@chacompanies.com</td>\n",
       "      <td>15 October 1972</td>\n",
       "      <td>Clifton Park</td>\n",
       "      <td>NY</td>\n",
       "      <td>12065</td>\n",
       "      <td>02/18/2013 19:43:54</td>\n",
       "      <td>yes</td>\n",
       "      <td>Individual</td>\n",
       "      <td>Active</td>\n",
       "      <td>NaN</td>\n",
       "    </tr>\n",
       "    <tr>\n",
       "      <th>4</th>\n",
       "      <td>31841286</td>\n",
       "      <td>Kathryn</td>\n",
       "      <td>Abbatiello</td>\n",
       "      <td>female</td>\n",
       "      <td>518-496-8364</td>\n",
       "      <td>katieabbatiello@gmail.com</td>\n",
       "      <td>12/08/74</td>\n",
       "      <td>Delanson</td>\n",
       "      <td>NY</td>\n",
       "      <td>12053</td>\n",
       "      <td>03/07/2016 12:35:44</td>\n",
       "      <td>yes</td>\n",
       "      <td>Couple</td>\n",
       "      <td>Active</td>\n",
       "      <td>katieabbatiello@gmail.com</td>\n",
       "    </tr>\n",
       "  </tbody>\n",
       "</table>\n",
       "</div>"
      ],
      "text/plain": [
       "   ﻿Member ID              First name   Last name  Gender         Phone  \\\n",
       "0      257647      New England Runner           _       O      555-5555   \n",
       "1      257804  The Adirondack Runners           _       O      555-5555   \n",
       "2      258209    Screen Designs, Inc.           _       0      555-5555   \n",
       "3     9304029                 Matthew      Abatto    Male           NaN   \n",
       "4    31841286                 Kathryn  Abbatiello  female  518-496-8364   \n",
       "\n",
       "                      e-Mail Birthdate (e.g., 01 Jun 1954)            City  \\\n",
       "0      NEW03582000@hmrrc.com                   01 Jan 2008  South Weymouth   \n",
       "1      ADI06362000@hmrrc.com                   01 Jan 2008     Glens Falls   \n",
       "2      SCR09991000@hmrrc.com                   01 Jan 2008             000   \n",
       "3   mabatto@chacompanies.com               15 October 1972    Clifton Park   \n",
       "4  katieabbatiello@gmail.com                      12/08/74        Delanson   \n",
       "\n",
       "  State Zip code           Created on Membership enabled Membership level  \\\n",
       "0    MA    02190  02/08/2008 22:05:19                yes         Lifetime   \n",
       "1    NY    12801  02/08/2008 22:06:37                yes       Individual   \n",
       "2    00      000  02/08/2008 22:11:38                yes       Individual   \n",
       "3    NY    12065  02/18/2013 19:43:54                yes       Individual   \n",
       "4    NY    12053  03/07/2016 12:35:44                yes           Couple   \n",
       "\n",
       "  Membership status  Member bundle ID or email  \n",
       "0            Active                        NaN  \n",
       "1            Active                        NaN  \n",
       "2            Active                        NaN  \n",
       "3            Active                        NaN  \n",
       "4            Active  katieabbatiello@gmail.com  "
      ]
     },
     "execution_count": 11,
     "metadata": {},
     "output_type": "execute_result"
    }
   ],
   "source": [
    "hmrrc.head()"
   ]
  },
  {
   "cell_type": "code",
   "execution_count": 12,
   "metadata": {
    "collapsed": false
   },
   "outputs": [
    {
     "data": {
      "text/html": [
       "<div>\n",
       "<table border=\"1\" class=\"dataframe\">\n",
       "  <thead>\n",
       "    <tr style=\"text-align: right;\">\n",
       "      <th></th>\n",
       "      <th>Place</th>\n",
       "      <th>FIRST_NAME</th>\n",
       "      <th>LAST_NAME</th>\n",
       "      <th>Ag</th>\n",
       "      <th>Sex</th>\n",
       "      <th>City</th>\n",
       "      <th>Time</th>\n",
       "    </tr>\n",
       "  </thead>\n",
       "  <tbody>\n",
       "    <tr>\n",
       "      <th>0</th>\n",
       "      <td>1</td>\n",
       "      <td>Eric</td>\n",
       "      <td>Young</td>\n",
       "      <td>24</td>\n",
       "      <td>M</td>\n",
       "      <td>Latham</td>\n",
       "      <td>04:41.70</td>\n",
       "    </tr>\n",
       "    <tr>\n",
       "      <th>1</th>\n",
       "      <td>2</td>\n",
       "      <td>Brian</td>\n",
       "      <td>Woods</td>\n",
       "      <td>31</td>\n",
       "      <td>M</td>\n",
       "      <td>Saratoga Springs</td>\n",
       "      <td>04:44.40</td>\n",
       "    </tr>\n",
       "    <tr>\n",
       "      <th>2</th>\n",
       "      <td>3</td>\n",
       "      <td>Josh</td>\n",
       "      <td>Merlis</td>\n",
       "      <td>34</td>\n",
       "      <td>M</td>\n",
       "      <td>Albany</td>\n",
       "      <td>04:47.80</td>\n",
       "    </tr>\n",
       "    <tr>\n",
       "      <th>3</th>\n",
       "      <td>4</td>\n",
       "      <td>Michael</td>\n",
       "      <td>Nickerson</td>\n",
       "      <td>27</td>\n",
       "      <td>M</td>\n",
       "      <td>Clifton Park</td>\n",
       "      <td>04:56.24</td>\n",
       "    </tr>\n",
       "    <tr>\n",
       "      <th>4</th>\n",
       "      <td>5</td>\n",
       "      <td>Nick</td>\n",
       "      <td>Webster</td>\n",
       "      <td>27</td>\n",
       "      <td>M</td>\n",
       "      <td>Albany</td>\n",
       "      <td>05:00.90</td>\n",
       "    </tr>\n",
       "  </tbody>\n",
       "</table>\n",
       "</div>"
      ],
      "text/plain": [
       "   Place FIRST_NAME  LAST_NAME  Ag Sex              City      Time\n",
       "0      1       Eric      Young  24   M            Latham  04:41.70\n",
       "1      2      Brian      Woods  31   M  Saratoga Springs  04:44.40\n",
       "2      3       Josh     Merlis  34   M            Albany  04:47.80\n",
       "3      4    Michael  Nickerson  27   M      Clifton Park  04:56.24\n",
       "4      5       Nick    Webster  27   M            Albany  05:00.90"
      ]
     },
     "execution_count": 12,
     "metadata": {},
     "output_type": "execute_result"
    }
   ],
   "source": [
    "ds=pd.read_csv('../data/2016/ColonieMile/ColonieMile.csv')\n",
    "ds.head()"
   ]
  },
  {
   "cell_type": "code",
   "execution_count": 13,
   "metadata": {
    "collapsed": false
   },
   "outputs": [
    {
     "data": {
      "text/plain": [
       "2.8511149228130357"
      ]
     },
     "execution_count": 13,
     "metadata": {},
     "output_type": "execute_result"
    }
   ],
   "source": [
    "matcher.matchRunner('fred', 'smith', 24, 'Troy', 'Freddie', 'Smoot', 29, 'Troy')"
   ]
  },
  {
   "cell_type": "code",
   "execution_count": 14,
   "metadata": {
    "collapsed": false
   },
   "outputs": [
    {
     "data": {
      "text/plain": [
       "4.0"
      ]
     },
     "execution_count": 14,
     "metadata": {},
     "output_type": "execute_result"
    }
   ],
   "source": [
    "matcher.matchRunner('Fred', 'Smith', 24, 'Troy', 'Fred', 'Smith', 24, 'Troy')"
   ]
  },
  {
   "cell_type": "code",
   "execution_count": 15,
   "metadata": {
    "collapsed": true
   },
   "outputs": [],
   "source": [
    "ds['member']='no'"
   ]
  },
  {
   "cell_type": "code",
   "execution_count": 16,
   "metadata": {
    "collapsed": false
   },
   "outputs": [
    {
     "data": {
      "text/html": [
       "<div>\n",
       "<table border=\"1\" class=\"dataframe\">\n",
       "  <thead>\n",
       "    <tr style=\"text-align: right;\">\n",
       "      <th></th>\n",
       "      <th>Place</th>\n",
       "      <th>FIRST_NAME</th>\n",
       "      <th>LAST_NAME</th>\n",
       "      <th>Ag</th>\n",
       "      <th>Sex</th>\n",
       "      <th>City</th>\n",
       "      <th>Time</th>\n",
       "      <th>member</th>\n",
       "    </tr>\n",
       "  </thead>\n",
       "  <tbody>\n",
       "    <tr>\n",
       "      <th>0</th>\n",
       "      <td>1</td>\n",
       "      <td>Eric</td>\n",
       "      <td>Young</td>\n",
       "      <td>24</td>\n",
       "      <td>M</td>\n",
       "      <td>Latham</td>\n",
       "      <td>04:41.70</td>\n",
       "      <td>no</td>\n",
       "    </tr>\n",
       "    <tr>\n",
       "      <th>1</th>\n",
       "      <td>2</td>\n",
       "      <td>Brian</td>\n",
       "      <td>Woods</td>\n",
       "      <td>31</td>\n",
       "      <td>M</td>\n",
       "      <td>Saratoga Springs</td>\n",
       "      <td>04:44.40</td>\n",
       "      <td>no</td>\n",
       "    </tr>\n",
       "    <tr>\n",
       "      <th>2</th>\n",
       "      <td>3</td>\n",
       "      <td>Josh</td>\n",
       "      <td>Merlis</td>\n",
       "      <td>34</td>\n",
       "      <td>M</td>\n",
       "      <td>Albany</td>\n",
       "      <td>04:47.80</td>\n",
       "      <td>no</td>\n",
       "    </tr>\n",
       "    <tr>\n",
       "      <th>3</th>\n",
       "      <td>4</td>\n",
       "      <td>Michael</td>\n",
       "      <td>Nickerson</td>\n",
       "      <td>27</td>\n",
       "      <td>M</td>\n",
       "      <td>Clifton Park</td>\n",
       "      <td>04:56.24</td>\n",
       "      <td>no</td>\n",
       "    </tr>\n",
       "    <tr>\n",
       "      <th>4</th>\n",
       "      <td>5</td>\n",
       "      <td>Nick</td>\n",
       "      <td>Webster</td>\n",
       "      <td>27</td>\n",
       "      <td>M</td>\n",
       "      <td>Albany</td>\n",
       "      <td>05:00.90</td>\n",
       "      <td>no</td>\n",
       "    </tr>\n",
       "  </tbody>\n",
       "</table>\n",
       "</div>"
      ],
      "text/plain": [
       "   Place FIRST_NAME  LAST_NAME  Ag Sex              City      Time member\n",
       "0      1       Eric      Young  24   M            Latham  04:41.70     no\n",
       "1      2      Brian      Woods  31   M  Saratoga Springs  04:44.40     no\n",
       "2      3       Josh     Merlis  34   M            Albany  04:47.80     no\n",
       "3      4    Michael  Nickerson  27   M      Clifton Park  04:56.24     no\n",
       "4      5       Nick    Webster  27   M            Albany  05:00.90     no"
      ]
     },
     "execution_count": 16,
     "metadata": {},
     "output_type": "execute_result"
    }
   ],
   "source": [
    "ds.head()"
   ]
  },
  {
   "cell_type": "code",
   "execution_count": 17,
   "metadata": {
    "collapsed": false
   },
   "outputs": [],
   "source": [
    "i=0\n",
    "max_score=[]\n",
    "match_info=[]\n",
    "for index, row_ds in ds.iterrows():\n",
    "    max_score.append(0)\n",
    "    match_info.append([])\n",
    "    for index, row_hmrrc in hmrrc.iterrows():\n",
    "        score = matcher.matchRunner(row_ds.FIRST_NAME, row_ds.LAST_NAME, 20, \"none\", row_hmrrc['First name'], row_hmrrc['Last name'], 20, \"none\")\n",
    "        if (score>max_score[i]):\n",
    "            max_score[i]=score\n",
    "            match_info[i]=[row_ds.FIRST_NAME, row_ds.LAST_NAME, row_hmrrc['First name'], row_hmrrc['Last name']]\n",
    "    i=i+1"
   ]
  },
  {
   "cell_type": "code",
   "execution_count": 20,
   "metadata": {
    "collapsed": false
   },
   "outputs": [
    {
     "name": "stdout",
     "output_type": "stream",
     "text": [
      "yes\n",
      "yes\n",
      "yes\n",
      "yes\n",
      "yes\n",
      "yes\n",
      "yes\n",
      "yes\n",
      "yes\n",
      "yes\n",
      "yes\n",
      "yes\n",
      "yes\n",
      "yes\n",
      "yes\n",
      "yes\n",
      "yes\n",
      "yes\n",
      "yes\n",
      "yes\n",
      "yes\n",
      "yes\n",
      "yes\n",
      "yes\n",
      "yes\n",
      "yes\n",
      "yes\n",
      "yes\n",
      "yes\n",
      "yes\n",
      "yes\n",
      "yes\n",
      "yes\n",
      "yes\n",
      "yes\n",
      "yes\n",
      "yes\n",
      "yes\n",
      "yes\n",
      "yes\n",
      "yes\n",
      "yes\n",
      "yes\n",
      "yes\n",
      "yes\n",
      "yes\n",
      "yes\n"
     ]
    }
   ],
   "source": [
    "\n",
    "for i in range(len(max_score)):\n",
    "    #print max_score[i],\" \",match_info[i]\n",
    "    if (max_score[i]>3.4):\n",
    "        print 'yes'\n",
    "        ds.ix[i,'member']='yes'\n",
    "        "
   ]
  },
  {
   "cell_type": "code",
   "execution_count": 21,
   "metadata": {
    "collapsed": false
   },
   "outputs": [
    {
     "data": {
      "text/html": [
       "<div>\n",
       "<table border=\"1\" class=\"dataframe\">\n",
       "  <thead>\n",
       "    <tr style=\"text-align: right;\">\n",
       "      <th></th>\n",
       "      <th>Place</th>\n",
       "      <th>FIRST_NAME</th>\n",
       "      <th>LAST_NAME</th>\n",
       "      <th>Ag</th>\n",
       "      <th>Sex</th>\n",
       "      <th>City</th>\n",
       "      <th>Time</th>\n",
       "      <th>member</th>\n",
       "    </tr>\n",
       "  </thead>\n",
       "  <tbody>\n",
       "    <tr>\n",
       "      <th>0</th>\n",
       "      <td>1</td>\n",
       "      <td>Eric</td>\n",
       "      <td>Young</td>\n",
       "      <td>24</td>\n",
       "      <td>M</td>\n",
       "      <td>Latham</td>\n",
       "      <td>04:41.70</td>\n",
       "      <td>yes</td>\n",
       "    </tr>\n",
       "    <tr>\n",
       "      <th>1</th>\n",
       "      <td>2</td>\n",
       "      <td>Brian</td>\n",
       "      <td>Woods</td>\n",
       "      <td>31</td>\n",
       "      <td>M</td>\n",
       "      <td>Saratoga Springs</td>\n",
       "      <td>04:44.40</td>\n",
       "      <td>no</td>\n",
       "    </tr>\n",
       "    <tr>\n",
       "      <th>2</th>\n",
       "      <td>3</td>\n",
       "      <td>Josh</td>\n",
       "      <td>Merlis</td>\n",
       "      <td>34</td>\n",
       "      <td>M</td>\n",
       "      <td>Albany</td>\n",
       "      <td>04:47.80</td>\n",
       "      <td>yes</td>\n",
       "    </tr>\n",
       "    <tr>\n",
       "      <th>3</th>\n",
       "      <td>4</td>\n",
       "      <td>Michael</td>\n",
       "      <td>Nickerson</td>\n",
       "      <td>27</td>\n",
       "      <td>M</td>\n",
       "      <td>Clifton Park</td>\n",
       "      <td>04:56.24</td>\n",
       "      <td>yes</td>\n",
       "    </tr>\n",
       "    <tr>\n",
       "      <th>4</th>\n",
       "      <td>5</td>\n",
       "      <td>Nick</td>\n",
       "      <td>Webster</td>\n",
       "      <td>27</td>\n",
       "      <td>M</td>\n",
       "      <td>Albany</td>\n",
       "      <td>05:00.90</td>\n",
       "      <td>yes</td>\n",
       "    </tr>\n",
       "  </tbody>\n",
       "</table>\n",
       "</div>"
      ],
      "text/plain": [
       "   Place FIRST_NAME  LAST_NAME  Ag Sex              City      Time member\n",
       "0      1       Eric      Young  24   M            Latham  04:41.70    yes\n",
       "1      2      Brian      Woods  31   M  Saratoga Springs  04:44.40     no\n",
       "2      3       Josh     Merlis  34   M            Albany  04:47.80    yes\n",
       "3      4    Michael  Nickerson  27   M      Clifton Park  04:56.24    yes\n",
       "4      5       Nick    Webster  27   M            Albany  05:00.90    yes"
      ]
     },
     "execution_count": 21,
     "metadata": {},
     "output_type": "execute_result"
    }
   ],
   "source": [
    "ds.head()"
   ]
  },
  {
   "cell_type": "code",
   "execution_count": 22,
   "metadata": {
    "collapsed": false
   },
   "outputs": [],
   "source": [
    "ds.to_csv('../data/2016/ColonieMile/ColonieMile2.csv', index=False)"
   ]
  },
  {
   "cell_type": "code",
   "execution_count": null,
   "metadata": {
    "collapsed": true
   },
   "outputs": [],
   "source": []
  }
 ],
 "metadata": {
  "kernelspec": {
   "display_name": "Python 2",
   "language": "python",
   "name": "python2"
  },
  "language_info": {
   "codemirror_mode": {
    "name": "ipython",
    "version": 2
   },
   "file_extension": ".py",
   "mimetype": "text/x-python",
   "name": "python",
   "nbconvert_exporter": "python",
   "pygments_lexer": "ipython2",
   "version": "2.7.11"
  }
 },
 "nbformat": 4,
 "nbformat_minor": 0
}
