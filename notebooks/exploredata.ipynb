{
 "cells": [
  {
   "cell_type": "code",
   "execution_count": 1,
   "metadata": {
    "collapsed": true
   },
   "outputs": [],
   "source": [
    "import pandas as pd"
   ]
  },
  {
   "cell_type": "code",
   "execution_count": 2,
   "metadata": {
    "collapsed": false
   },
   "outputs": [
    {
     "data": {
      "text/html": [
       "<div>\n",
       "<table border=\"1\" class=\"dataframe\">\n",
       "  <thead>\n",
       "    <tr style=\"text-align: right;\">\n",
       "      <th></th>\n",
       "      <th>Place</th>\n",
       "      <th>Fname</th>\n",
       "      <th>Lname</th>\n",
       "      <th>Age</th>\n",
       "      <th>Sex</th>\n",
       "      <th>City</th>\n",
       "      <th>State</th>\n",
       "      <th>Div Place</th>\n",
       "      <th>Gender Place</th>\n",
       "      <th>Time</th>\n",
       "      <th>Pace</th>\n",
       "      <th>HMRRC Event</th>\n",
       "    </tr>\n",
       "  </thead>\n",
       "  <tbody>\n",
       "    <tr>\n",
       "      <th>0</th>\n",
       "      <td>1</td>\n",
       "      <td>James</td>\n",
       "      <td>O'Connor</td>\n",
       "      <td>42</td>\n",
       "      <td>M</td>\n",
       "      <td>Troy</td>\n",
       "      <td>NY</td>\n",
       "      <td>1</td>\n",
       "      <td>1</td>\n",
       "      <td>35:59</td>\n",
       "      <td>5:48</td>\n",
       "      <td>Y</td>\n",
       "    </tr>\n",
       "    <tr>\n",
       "      <th>1</th>\n",
       "      <td>2</td>\n",
       "      <td>Tom</td>\n",
       "      <td>Kracker</td>\n",
       "      <td>51</td>\n",
       "      <td>M</td>\n",
       "      <td>Delmar</td>\n",
       "      <td>NY</td>\n",
       "      <td>1</td>\n",
       "      <td>2</td>\n",
       "      <td>37:36</td>\n",
       "      <td>6:04</td>\n",
       "      <td>Y</td>\n",
       "    </tr>\n",
       "    <tr>\n",
       "      <th>2</th>\n",
       "      <td>3</td>\n",
       "      <td>John</td>\n",
       "      <td>Stadtlander</td>\n",
       "      <td>50</td>\n",
       "      <td>M</td>\n",
       "      <td>Clifton Park</td>\n",
       "      <td>NY</td>\n",
       "      <td>2</td>\n",
       "      <td>3</td>\n",
       "      <td>37:55</td>\n",
       "      <td>6:07</td>\n",
       "      <td>Y</td>\n",
       "    </tr>\n",
       "    <tr>\n",
       "      <th>3</th>\n",
       "      <td>4</td>\n",
       "      <td>Jon</td>\n",
       "      <td>Rocco</td>\n",
       "      <td>49</td>\n",
       "      <td>M</td>\n",
       "      <td>Colonie</td>\n",
       "      <td>NY</td>\n",
       "      <td>1</td>\n",
       "      <td>4</td>\n",
       "      <td>38:27</td>\n",
       "      <td>6:12</td>\n",
       "      <td>Y</td>\n",
       "    </tr>\n",
       "    <tr>\n",
       "      <th>4</th>\n",
       "      <td>5</td>\n",
       "      <td>Aaron</td>\n",
       "      <td>Knobloch</td>\n",
       "      <td>40</td>\n",
       "      <td>M</td>\n",
       "      <td>Guilderland</td>\n",
       "      <td>NY</td>\n",
       "      <td>2</td>\n",
       "      <td>5</td>\n",
       "      <td>38:43</td>\n",
       "      <td>6:14</td>\n",
       "      <td>Y</td>\n",
       "    </tr>\n",
       "  </tbody>\n",
       "</table>\n",
       "</div>"
      ],
      "text/plain": [
       "   Place  Fname        Lname  Age Sex          City State  Div Place  \\\n",
       "0      1  James     O'Connor   42   M          Troy    NY          1   \n",
       "1      2    Tom      Kracker   51   M        Delmar    NY          1   \n",
       "2      3   John  Stadtlander   50   M  Clifton Park    NY          2   \n",
       "3      4    Jon        Rocco   49   M       Colonie    NY          1   \n",
       "4      5  Aaron     Knobloch   40   M   Guilderland    NY          2   \n",
       "\n",
       "   Gender Place   Time  Pace HMRRC Event  \n",
       "0             1  35:59  5:48           Y  \n",
       "1             2  37:36  6:04           Y  \n",
       "2             3  37:55  6:07           Y  \n",
       "3             4  38:27  6:12           Y  \n",
       "4             5  38:43  6:14           Y  "
      ]
     },
     "execution_count": 2,
     "metadata": {},
     "output_type": "execute_result"
    }
   ],
   "source": [
    "masters=pd.read_csv('../data/2016/masters10k.csv')\n",
    "masters.head()"
   ]
  },
  {
   "cell_type": "code",
   "execution_count": 3,
   "metadata": {
    "collapsed": false
   },
   "outputs": [
    {
     "name": "stdout",
     "output_type": "stream",
     "text": [
      "match!\n"
     ]
    }
   ],
   "source": [
    "place_strings=['place','rank']\n",
    "test='Places'\n",
    "if 'Place'.lower() in place_strings:\n",
    "    print 'match!'\n",
    "else:\n",
    "    print 'no match :('"
   ]
  },
  {
   "cell_type": "code",
   "execution_count": 4,
   "metadata": {
    "collapsed": false
   },
   "outputs": [
    {
     "data": {
      "text/plain": [
       "Index([u'Place', u'Fname', u'Lname', u'Age', u'Sex', u'City', u'State',\n",
       "       u'Div Place', u'Gender Place', u'Time', u'Pace', u'HMRRC Event'],\n",
       "      dtype='object')"
      ]
     },
     "execution_count": 4,
     "metadata": {},
     "output_type": "execute_result"
    }
   ],
   "source": [
    "masters.columns"
   ]
  },
  {
   "cell_type": "code",
   "execution_count": 5,
   "metadata": {
    "collapsed": false
   },
   "outputs": [
    {
     "name": "stdout",
     "output_type": "stream",
     "text": [
      "{'city': ['city'], 'gender': ['gender', 'sex'], 'age': ['age'], 'gun_time': ['gtime', 'time', 'guntime', 'gun_time'], 'lname': ['last_name', 'last name', 'lname', 'last'], 'pace': ['pace'], 'state': ['state', 'st'], 'place': ['place'], 'fname': ['first_name', 'first name', 'fname', 'first'], 'hmrrc': ['member', 'HMRRC Event'], 'div_place': ['div place'], 'gender_place': ['gender Place']}\n"
     ]
    }
   ],
   "source": [
    "import sys\n",
    "sys.path.append('../util/race/')\n",
    "\n",
    "import header\n",
    "reload(header)\n",
    "from header import RaceHeader\n",
    "\n",
    "\n",
    "print RaceHeader.headers"
   ]
  },
  {
   "cell_type": "code",
   "execution_count": 7,
   "metadata": {
    "collapsed": false
   },
   "outputs": [
    {
     "name": "stdout",
     "output_type": "stream",
     "text": [
      "<type 'dict'>\n",
      "['city']\n",
      "city matches\n",
      "['gender', 'sex']\n",
      "sex matches\n",
      "['age']\n",
      "age matches\n",
      "['gtime', 'time', 'guntime', 'gun_time']\n",
      "time matches\n",
      "['last_name', 'last name', 'lname', 'last']\n",
      "lname matches\n",
      "['pace']\n",
      "pace matches\n",
      "['state', 'st']\n",
      "state matches\n",
      "['place']\n",
      "place matches\n",
      "['first_name', 'first name', 'fname', 'first']\n",
      "fname matches\n",
      "['member', 'HMRRC Event']\n",
      "['div place']\n",
      "div place matches\n",
      "['gender Place']\n"
     ]
    }
   ],
   "source": [
    "headers=RaceHeader.headers\n",
    "\n",
    "print type(headers)\n",
    "for key in headers:\n",
    "    print headers[key]\n",
    "    for c in masters.columns:\n",
    "        if c.lower() in headers[key]:\n",
    "            print c.lower()+' matches'"
   ]
  },
  {
   "cell_type": "code",
   "execution_count": null,
   "metadata": {
    "collapsed": true
   },
   "outputs": [],
   "source": []
  }
 ],
 "metadata": {
  "kernelspec": {
   "display_name": "Python 2",
   "language": "python",
   "name": "python2"
  },
  "language_info": {
   "codemirror_mode": {
    "name": "ipython",
    "version": 2
   },
   "file_extension": ".py",
   "mimetype": "text/x-python",
   "name": "python",
   "nbconvert_exporter": "python",
   "pygments_lexer": "ipython2",
   "version": "2.7.11"
  }
 },
 "nbformat": 4,
 "nbformat_minor": 0
}
