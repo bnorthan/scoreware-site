{
 "cells": [
  {
   "cell_type": "code",
   "execution_count": 1,
   "metadata": {
    "collapsed": true
   },
   "outputs": [],
   "source": [
    "import pandas as pd"
   ]
  },
  {
   "cell_type": "code",
   "execution_count": 7,
   "metadata": {
    "collapsed": false
   },
   "outputs": [],
   "source": [
    "race=pd.read_fwf('../data/2016/stockade/results.txt')"
   ]
  },
  {
   "cell_type": "code",
   "execution_count": 8,
   "metadata": {
    "collapsed": false
   },
   "outputs": [
    {
     "data": {
      "text/plain": [
       "(1452, 21)"
      ]
     },
     "execution_count": 8,
     "metadata": {},
     "output_type": "execute_result"
    }
   ],
   "source": [
    "race.shape"
   ]
  },
  {
   "cell_type": "code",
   "execution_count": 9,
   "metadata": {
    "collapsed": false
   },
   "outputs": [
    {
     "data": {
      "text/html": [
       "<div>\n",
       "<table border=\"1\" class=\"dataframe\">\n",
       "  <thead>\n",
       "    <tr style=\"text-align: right;\">\n",
       "      <th></th>\n",
       "      <th>PLACE</th>\n",
       "      <th>TIME</th>\n",
       "      <th>PACE</th>\n",
       "      <th>BIB</th>\n",
       "      <th>NAME</th>\n",
       "      <th>AGE</th>\n",
       "      <th>SEX</th>\n",
       "      <th>DIVPL</th>\n",
       "      <th>SEXPL</th>\n",
       "      <th>DIV</th>\n",
       "      <th>...</th>\n",
       "      <th>ST</th>\n",
       "      <th>1ST 5K</th>\n",
       "      <th>2ND 5K</th>\n",
       "      <th>3RD 5K</th>\n",
       "      <th>10K</th>\n",
       "      <th>15K</th>\n",
       "      <th>LAST0.3</th>\n",
       "      <th>GUN TIME</th>\n",
       "      <th>GUN PACE NET TIME NET</th>\n",
       "      <th>PACE.1</th>\n",
       "    </tr>\n",
       "  </thead>\n",
       "  <tbody>\n",
       "    <tr>\n",
       "      <th>0</th>\n",
       "      <td>1.0</td>\n",
       "      <td>45:23</td>\n",
       "      <td>4:53</td>\n",
       "      <td>5.0</td>\n",
       "      <td>Louis Serafini</td>\n",
       "      <td>25.0</td>\n",
       "      <td>M</td>\n",
       "      <td>1.0</td>\n",
       "      <td>1.0</td>\n",
       "      <td>OVA_M</td>\n",
       "      <td>...</td>\n",
       "      <td>MA</td>\n",
       "      <td>15:16</td>\n",
       "      <td>15:20</td>\n",
       "      <td>14:48</td>\n",
       "      <td>30:35</td>\n",
       "      <td>44:00</td>\n",
       "      <td>1:23</td>\n",
       "      <td>45:23</td>\n",
       "      <td>4:53    45:23   4:53</td>\n",
       "      <td>NaN</td>\n",
       "    </tr>\n",
       "    <tr>\n",
       "      <th>1</th>\n",
       "      <td>2.0</td>\n",
       "      <td>45:30</td>\n",
       "      <td>4:53</td>\n",
       "      <td>2.0</td>\n",
       "      <td>John Raneri</td>\n",
       "      <td>25.0</td>\n",
       "      <td>M</td>\n",
       "      <td>2.0</td>\n",
       "      <td>2.0</td>\n",
       "      <td>OVA_M</td>\n",
       "      <td>...</td>\n",
       "      <td>CT</td>\n",
       "      <td>15:15</td>\n",
       "      <td>15:21</td>\n",
       "      <td>14:55</td>\n",
       "      <td>30:35</td>\n",
       "      <td>44:07</td>\n",
       "      <td>1:23</td>\n",
       "      <td>45:30</td>\n",
       "      <td>4:53    45:30   4:53</td>\n",
       "      <td>NaN</td>\n",
       "    </tr>\n",
       "    <tr>\n",
       "      <th>2</th>\n",
       "      <td>3.0</td>\n",
       "      <td>45:50</td>\n",
       "      <td>4:56</td>\n",
       "      <td>3.0</td>\n",
       "      <td>Jake Sienko</td>\n",
       "      <td>24.0</td>\n",
       "      <td>M</td>\n",
       "      <td>3.0</td>\n",
       "      <td>3.0</td>\n",
       "      <td>OVA_M</td>\n",
       "      <td>...</td>\n",
       "      <td>RI</td>\n",
       "      <td>15:16</td>\n",
       "      <td>15:20</td>\n",
       "      <td>15:15</td>\n",
       "      <td>30:36</td>\n",
       "      <td>44:26</td>\n",
       "      <td>1:25</td>\n",
       "      <td>45:50</td>\n",
       "      <td>4:56    45:50   4:56</td>\n",
       "      <td>NaN</td>\n",
       "    </tr>\n",
       "    <tr>\n",
       "      <th>3</th>\n",
       "      <td>4.0</td>\n",
       "      <td>46:20</td>\n",
       "      <td>4:59</td>\n",
       "      <td>4.0</td>\n",
       "      <td>Daniel Lennon</td>\n",
       "      <td>22.0</td>\n",
       "      <td>M</td>\n",
       "      <td>4.0</td>\n",
       "      <td>4.0</td>\n",
       "      <td>OVA_M</td>\n",
       "      <td>...</td>\n",
       "      <td>NY</td>\n",
       "      <td>15:16</td>\n",
       "      <td>15:34</td>\n",
       "      <td>15:31</td>\n",
       "      <td>30:49</td>\n",
       "      <td>44:50</td>\n",
       "      <td>1:30</td>\n",
       "      <td>46:20</td>\n",
       "      <td>4:59    46:20   4:59</td>\n",
       "      <td>NaN</td>\n",
       "    </tr>\n",
       "    <tr>\n",
       "      <th>4</th>\n",
       "      <td>5.0</td>\n",
       "      <td>46:50</td>\n",
       "      <td>5:02</td>\n",
       "      <td>50.0</td>\n",
       "      <td>John Busque</td>\n",
       "      <td>24.0</td>\n",
       "      <td>M</td>\n",
       "      <td>5.0</td>\n",
       "      <td>5.0</td>\n",
       "      <td>OVA_M</td>\n",
       "      <td>...</td>\n",
       "      <td>CT</td>\n",
       "      <td>15:45</td>\n",
       "      <td>15:40</td>\n",
       "      <td>15:27</td>\n",
       "      <td>31:24</td>\n",
       "      <td>45:24</td>\n",
       "      <td>1:27</td>\n",
       "      <td>46:50</td>\n",
       "      <td>5:02    46:50   5:02</td>\n",
       "      <td>NaN</td>\n",
       "    </tr>\n",
       "  </tbody>\n",
       "</table>\n",
       "<p>5 rows × 21 columns</p>\n",
       "</div>"
      ],
      "text/plain": [
       "   PLACE   TIME  PACE   BIB            NAME   AGE SEX  DIVPL  SEXPL    DIV  \\\n",
       "0    1.0  45:23  4:53   5.0  Louis Serafini  25.0   M    1.0    1.0  OVA_M   \n",
       "1    2.0  45:30  4:53   2.0     John Raneri  25.0   M    2.0    2.0  OVA_M   \n",
       "2    3.0  45:50  4:56   3.0     Jake Sienko  24.0   M    3.0    3.0  OVA_M   \n",
       "3    4.0  46:20  4:59   4.0   Daniel Lennon  22.0   M    4.0    4.0  OVA_M   \n",
       "4    5.0  46:50  5:02  50.0     John Busque  24.0   M    5.0    5.0  OVA_M   \n",
       "\n",
       "   ...    ST 1ST 5K 2ND 5K 3RD 5K    10K    15K LAST0.3 GUN TIME  \\\n",
       "0  ...    MA  15:16  15:20  14:48  30:35  44:00    1:23    45:23   \n",
       "1  ...    CT  15:15  15:21  14:55  30:35  44:07    1:23    45:30   \n",
       "2  ...    RI  15:16  15:20  15:15  30:36  44:26    1:25    45:50   \n",
       "3  ...    NY  15:16  15:34  15:31  30:49  44:50    1:30    46:20   \n",
       "4  ...    CT  15:45  15:40  15:27  31:24  45:24    1:27    46:50   \n",
       "\n",
       "  GUN PACE NET TIME NET PACE.1  \n",
       "0  4:53    45:23   4:53    NaN  \n",
       "1  4:53    45:30   4:53    NaN  \n",
       "2  4:56    45:50   4:56    NaN  \n",
       "3  4:59    46:20   4:59    NaN  \n",
       "4  5:02    46:50   5:02    NaN  \n",
       "\n",
       "[5 rows x 21 columns]"
      ]
     },
     "execution_count": 9,
     "metadata": {},
     "output_type": "execute_result"
    }
   ],
   "source": [
    "race.head()"
   ]
  },
  {
   "cell_type": "code",
   "execution_count": 11,
   "metadata": {
    "collapsed": false
   },
   "outputs": [],
   "source": [
    "race.to_csv('../data/2016/stockade/results.csv')"
   ]
  },
  {
   "cell_type": "code",
   "execution_count": 2,
   "metadata": {
    "collapsed": true
   },
   "outputs": [],
   "source": [
    "race=pd.read_csv('../data/2016/stockade/stockade.csv')"
   ]
  },
  {
   "cell_type": "code",
   "execution_count": 5,
   "metadata": {
    "collapsed": false
   },
   "outputs": [
    {
     "data": {
      "text/plain": [
       "Index([u'PLACE', u'NAME', u'AGE', u'SEX', u'CITY', u'ST', u'TIME', u'PACE'], dtype='object')"
      ]
     },
     "execution_count": 5,
     "metadata": {},
     "output_type": "execute_result"
    }
   ],
   "source": [
    "race.head()\n",
    "race.columns"
   ]
  },
  {
   "cell_type": "code",
   "execution_count": 15,
   "metadata": {
    "collapsed": false
   },
   "outputs": [
    {
     "data": {
      "text/html": [
       "<div>\n",
       "<table border=\"1\" class=\"dataframe\">\n",
       "  <thead>\n",
       "    <tr style=\"text-align: right;\">\n",
       "      <th></th>\n",
       "      <th>PLACE</th>\n",
       "      <th>AGE</th>\n",
       "      <th>SEX</th>\n",
       "      <th>CITY</th>\n",
       "      <th>ST</th>\n",
       "      <th>TIME</th>\n",
       "      <th>PACE</th>\n",
       "      <th>FIRST_NAME</th>\n",
       "      <th>LAST_NAME</th>\n",
       "    </tr>\n",
       "  </thead>\n",
       "  <tbody>\n",
       "    <tr>\n",
       "      <th>0</th>\n",
       "      <td>1</td>\n",
       "      <td>25</td>\n",
       "      <td>M</td>\n",
       "      <td>Brighton</td>\n",
       "      <td>MA</td>\n",
       "      <td>45:23</td>\n",
       "      <td>4:53</td>\n",
       "      <td>Louis</td>\n",
       "      <td>Serafini</td>\n",
       "    </tr>\n",
       "    <tr>\n",
       "      <th>1</th>\n",
       "      <td>2</td>\n",
       "      <td>25</td>\n",
       "      <td>M</td>\n",
       "      <td>New Fairfield</td>\n",
       "      <td>CT</td>\n",
       "      <td>45:30</td>\n",
       "      <td>4:53</td>\n",
       "      <td>John</td>\n",
       "      <td>Raneri</td>\n",
       "    </tr>\n",
       "    <tr>\n",
       "      <th>2</th>\n",
       "      <td>3</td>\n",
       "      <td>24</td>\n",
       "      <td>M</td>\n",
       "      <td>Woonsocket</td>\n",
       "      <td>RI</td>\n",
       "      <td>45:50</td>\n",
       "      <td>4:56</td>\n",
       "      <td>Jake</td>\n",
       "      <td>Sienko</td>\n",
       "    </tr>\n",
       "    <tr>\n",
       "      <th>3</th>\n",
       "      <td>4</td>\n",
       "      <td>22</td>\n",
       "      <td>M</td>\n",
       "      <td>Morrisonville</td>\n",
       "      <td>NY</td>\n",
       "      <td>46:20</td>\n",
       "      <td>4:59</td>\n",
       "      <td>Daniel</td>\n",
       "      <td>Lennon</td>\n",
       "    </tr>\n",
       "    <tr>\n",
       "      <th>4</th>\n",
       "      <td>5</td>\n",
       "      <td>24</td>\n",
       "      <td>M</td>\n",
       "      <td>Manchester</td>\n",
       "      <td>CT</td>\n",
       "      <td>46:50</td>\n",
       "      <td>5:02</td>\n",
       "      <td>John</td>\n",
       "      <td>Busque</td>\n",
       "    </tr>\n",
       "  </tbody>\n",
       "</table>\n",
       "</div>"
      ],
      "text/plain": [
       "   PLACE  AGE SEX           CITY  ST   TIME  PACE FIRST_NAME LAST_NAME\n",
       "0      1   25   M       Brighton  MA  45:23  4:53      Louis  Serafini\n",
       "1      2   25   M  New Fairfield  CT  45:30  4:53       John    Raneri\n",
       "2      3   24   M     Woonsocket  RI  45:50  4:56       Jake    Sienko\n",
       "3      4   22   M  Morrisonville  NY  46:20  4:59     Daniel    Lennon\n",
       "4      5   24   M     Manchester  CT  46:50  5:02       John    Busque"
      ]
     },
     "execution_count": 15,
     "metadata": {},
     "output_type": "execute_result"
    }
   ],
   "source": [
    "temp = pd.DataFrame(race.NAME.str.split(' ',1).tolist(),\n",
    "                                   columns = ['FIRST_NAME','LAST_NAME'])\n",
    "\n",
    "race=race.drop('NAME',1)\n",
    "race=race.join(temp)\n",
    "race.head()"
   ]
  },
  {
   "cell_type": "code",
   "execution_count": 17,
   "metadata": {
    "collapsed": false
   },
   "outputs": [],
   "source": [
    "race=race.to_csv('../data/2016/stockade/stockade2.csv')"
   ]
  },
  {
   "cell_type": "code",
   "execution_count": null,
   "metadata": {
    "collapsed": true
   },
   "outputs": [],
   "source": []
  }
 ],
 "metadata": {
  "kernelspec": {
   "display_name": "Python 2",
   "language": "python",
   "name": "python2"
  },
  "language_info": {
   "codemirror_mode": {
    "name": "ipython",
    "version": 2
   },
   "file_extension": ".py",
   "mimetype": "text/x-python",
   "name": "python",
   "nbconvert_exporter": "python",
   "pygments_lexer": "ipython2",
   "version": "2.7.11"
  }
 },
 "nbformat": 4,
 "nbformat_minor": 0
}
