{
 "cells": [
  {
   "cell_type": "code",
   "execution_count": 5,
   "metadata": {
    "collapsed": true
   },
   "outputs": [],
   "source": [
    "import pandas as pd"
   ]
  },
  {
   "cell_type": "code",
   "execution_count": 6,
   "metadata": {
    "collapsed": false
   },
   "outputs": [
    {
     "name": "stdout",
     "output_type": "stream",
     "text": [
      "(59, 8)\n"
     ]
    },
    {
     "data": {
      "text/html": [
       "<div>\n",
       "<table border=\"1\" class=\"dataframe\">\n",
       "  <thead>\n",
       "    <tr style=\"text-align: right;\">\n",
       "      <th></th>\n",
       "      <th>Place</th>\n",
       "      <th>FIRST_NAME</th>\n",
       "      <th>LAST_NAME</th>\n",
       "      <th>Ag</th>\n",
       "      <th>Sex</th>\n",
       "      <th>City</th>\n",
       "      <th>Time</th>\n",
       "      <th>member</th>\n",
       "    </tr>\n",
       "  </thead>\n",
       "  <tbody>\n",
       "    <tr>\n",
       "      <th>0</th>\n",
       "      <td>1</td>\n",
       "      <td>Eric</td>\n",
       "      <td>Young</td>\n",
       "      <td>24</td>\n",
       "      <td>M</td>\n",
       "      <td>Latham</td>\n",
       "      <td>04:41.70</td>\n",
       "      <td>yes</td>\n",
       "    </tr>\n",
       "    <tr>\n",
       "      <th>1</th>\n",
       "      <td>2</td>\n",
       "      <td>Brian</td>\n",
       "      <td>Woods</td>\n",
       "      <td>31</td>\n",
       "      <td>M</td>\n",
       "      <td>Saratoga Springs</td>\n",
       "      <td>04:44.40</td>\n",
       "      <td>no</td>\n",
       "    </tr>\n",
       "    <tr>\n",
       "      <th>2</th>\n",
       "      <td>3</td>\n",
       "      <td>Josh</td>\n",
       "      <td>Merlis</td>\n",
       "      <td>34</td>\n",
       "      <td>M</td>\n",
       "      <td>Albany</td>\n",
       "      <td>04:47.80</td>\n",
       "      <td>yes</td>\n",
       "    </tr>\n",
       "    <tr>\n",
       "      <th>3</th>\n",
       "      <td>4</td>\n",
       "      <td>Michael</td>\n",
       "      <td>Nickerson</td>\n",
       "      <td>27</td>\n",
       "      <td>M</td>\n",
       "      <td>Clifton Park</td>\n",
       "      <td>04:56.24</td>\n",
       "      <td>yes</td>\n",
       "    </tr>\n",
       "    <tr>\n",
       "      <th>4</th>\n",
       "      <td>5</td>\n",
       "      <td>Nick</td>\n",
       "      <td>Webster</td>\n",
       "      <td>27</td>\n",
       "      <td>M</td>\n",
       "      <td>Albany</td>\n",
       "      <td>05:00.90</td>\n",
       "      <td>yes</td>\n",
       "    </tr>\n",
       "  </tbody>\n",
       "</table>\n",
       "</div>"
      ],
      "text/plain": [
       "   Place FIRST_NAME  LAST_NAME  Ag Sex              City      Time member\n",
       "0      1       Eric      Young  24   M            Latham  04:41.70    yes\n",
       "1      2      Brian      Woods  31   M  Saratoga Springs  04:44.40     no\n",
       "2      3       Josh     Merlis  34   M            Albany  04:47.80    yes\n",
       "3      4    Michael  Nickerson  27   M      Clifton Park  04:56.24    yes\n",
       "4      5       Nick    Webster  27   M            Albany  05:00.90    yes"
      ]
     },
     "execution_count": 6,
     "metadata": {},
     "output_type": "execute_result"
    }
   ],
   "source": [
    "df=pd.read_csv('../data/2016/ColonieMile/ColonieMile2.csv')\n",
    "print df.shape\n",
    "df.head()"
   ]
  },
  {
   "cell_type": "code",
   "execution_count": 7,
   "metadata": {
    "collapsed": false
   },
   "outputs": [
    {
     "name": "stdout",
     "output_type": "stream",
     "text": [
      "(47, 8)\n"
     ]
    }
   ],
   "source": [
    "hmrrc=df[df['member']=='yes']\n",
    "print hmrrc.shape"
   ]
  },
  {
   "cell_type": "code",
   "execution_count": 8,
   "metadata": {
    "collapsed": false
   },
   "outputs": [
    {
     "data": {
      "text/html": [
       "<div>\n",
       "<table border=\"1\" class=\"dataframe\">\n",
       "  <thead>\n",
       "    <tr style=\"text-align: right;\">\n",
       "      <th></th>\n",
       "      <th>Place</th>\n",
       "      <th>FIRST_NAME</th>\n",
       "      <th>LAST_NAME</th>\n",
       "      <th>Sex</th>\n",
       "      <th>Ag</th>\n",
       "    </tr>\n",
       "  </thead>\n",
       "  <tbody>\n",
       "    <tr>\n",
       "      <th>0</th>\n",
       "      <td>1</td>\n",
       "      <td>Eric</td>\n",
       "      <td>Young</td>\n",
       "      <td>M</td>\n",
       "      <td>24</td>\n",
       "    </tr>\n",
       "    <tr>\n",
       "      <th>2</th>\n",
       "      <td>3</td>\n",
       "      <td>Josh</td>\n",
       "      <td>Merlis</td>\n",
       "      <td>M</td>\n",
       "      <td>34</td>\n",
       "    </tr>\n",
       "    <tr>\n",
       "      <th>3</th>\n",
       "      <td>4</td>\n",
       "      <td>Michael</td>\n",
       "      <td>Nickerson</td>\n",
       "      <td>M</td>\n",
       "      <td>27</td>\n",
       "    </tr>\n",
       "    <tr>\n",
       "      <th>4</th>\n",
       "      <td>5</td>\n",
       "      <td>Nick</td>\n",
       "      <td>Webster</td>\n",
       "      <td>M</td>\n",
       "      <td>27</td>\n",
       "    </tr>\n",
       "    <tr>\n",
       "      <th>6</th>\n",
       "      <td>7</td>\n",
       "      <td>Ben</td>\n",
       "      <td>Heller</td>\n",
       "      <td>M</td>\n",
       "      <td>27</td>\n",
       "    </tr>\n",
       "  </tbody>\n",
       "</table>\n",
       "</div>"
      ],
      "text/plain": [
       "   Place FIRST_NAME  LAST_NAME Sex  Ag\n",
       "0      1       Eric      Young   M  24\n",
       "2      3       Josh     Merlis   M  34\n",
       "3      4    Michael  Nickerson   M  27\n",
       "4      5       Nick    Webster   M  27\n",
       "6      7        Ben     Heller   M  27"
      ]
     },
     "execution_count": 8,
     "metadata": {},
     "output_type": "execute_result"
    }
   ],
   "source": [
    "hmrrc=hmrrc[['Place','FIRST_NAME','LAST_NAME','Sex','Ag']]\n",
    "hmrrc.head()"
   ]
  },
  {
   "cell_type": "code",
   "execution_count": 9,
   "metadata": {
    "collapsed": true
   },
   "outputs": [],
   "source": [
    "hmrrc=hmrrc.sort_values(['Sex','Ag','Place'])"
   ]
  },
  {
   "cell_type": "code",
   "execution_count": 10,
   "metadata": {
    "collapsed": false
   },
   "outputs": [
    {
     "data": {
      "text/html": [
       "<div>\n",
       "<table border=\"1\" class=\"dataframe\">\n",
       "  <thead>\n",
       "    <tr style=\"text-align: right;\">\n",
       "      <th></th>\n",
       "      <th>Place</th>\n",
       "      <th>FIRST_NAME</th>\n",
       "      <th>LAST_NAME</th>\n",
       "      <th>Sex</th>\n",
       "      <th>Ag</th>\n",
       "    </tr>\n",
       "  </thead>\n",
       "  <tbody>\n",
       "    <tr>\n",
       "      <th>36</th>\n",
       "      <td>37</td>\n",
       "      <td>Julia</td>\n",
       "      <td>Barker</td>\n",
       "      <td>F</td>\n",
       "      <td>13</td>\n",
       "    </tr>\n",
       "    <tr>\n",
       "      <th>34</th>\n",
       "      <td>35</td>\n",
       "      <td>Jourdyn</td>\n",
       "      <td>Nicholson</td>\n",
       "      <td>F</td>\n",
       "      <td>15</td>\n",
       "    </tr>\n",
       "    <tr>\n",
       "      <th>29</th>\n",
       "      <td>30</td>\n",
       "      <td>Michelle</td>\n",
       "      <td>Davis</td>\n",
       "      <td>F</td>\n",
       "      <td>27</td>\n",
       "    </tr>\n",
       "    <tr>\n",
       "      <th>47</th>\n",
       "      <td>48</td>\n",
       "      <td>Clare</td>\n",
       "      <td>Browne</td>\n",
       "      <td>F</td>\n",
       "      <td>27</td>\n",
       "    </tr>\n",
       "    <tr>\n",
       "      <th>17</th>\n",
       "      <td>18</td>\n",
       "      <td>Nicole</td>\n",
       "      <td>Soblosky</td>\n",
       "      <td>F</td>\n",
       "      <td>29</td>\n",
       "    </tr>\n",
       "  </tbody>\n",
       "</table>\n",
       "</div>"
      ],
      "text/plain": [
       "    Place FIRST_NAME  LAST_NAME Sex  Ag\n",
       "36     37      Julia     Barker   F  13\n",
       "34     35    Jourdyn  Nicholson   F  15\n",
       "29     30   Michelle      Davis   F  27\n",
       "47     48      Clare     Browne   F  27\n",
       "17     18     Nicole   Soblosky   F  29"
      ]
     },
     "execution_count": 10,
     "metadata": {},
     "output_type": "execute_result"
    }
   ],
   "source": [
    "hmrrc.head()"
   ]
  },
  {
   "cell_type": "code",
   "execution_count": 11,
   "metadata": {
    "collapsed": false
   },
   "outputs": [],
   "source": [
    "def AgeToCat(age):\n",
    "    if (0<age<30):\n",
    "        return \"a_open\"\n",
    "    if (30<=age<40):\n",
    "        return \"b_30_39\"\n",
    "    if (40<=age<50):\n",
    "        return \"c_40_49\"\n",
    "    if (50<=age<60):\n",
    "        return \"d_50_59\"\n",
    "    if (60<=age<70):\n",
    "        return \"e_60_69\"\n",
    "    if (age>=70):\n",
    "        return \"f_70+\"\n",
    "    "
   ]
  },
  {
   "cell_type": "code",
   "execution_count": 12,
   "metadata": {
    "collapsed": false
   },
   "outputs": [
    {
     "data": {
      "text/html": [
       "<div>\n",
       "<table border=\"1\" class=\"dataframe\">\n",
       "  <thead>\n",
       "    <tr style=\"text-align: right;\">\n",
       "      <th></th>\n",
       "      <th>Place</th>\n",
       "      <th>FIRST_NAME</th>\n",
       "      <th>LAST_NAME</th>\n",
       "      <th>Sex</th>\n",
       "      <th>Ag</th>\n",
       "      <th>age_cat</th>\n",
       "    </tr>\n",
       "  </thead>\n",
       "  <tbody>\n",
       "    <tr>\n",
       "      <th>36</th>\n",
       "      <td>37</td>\n",
       "      <td>Julia</td>\n",
       "      <td>Barker</td>\n",
       "      <td>F</td>\n",
       "      <td>13</td>\n",
       "      <td>a_open</td>\n",
       "    </tr>\n",
       "    <tr>\n",
       "      <th>34</th>\n",
       "      <td>35</td>\n",
       "      <td>Jourdyn</td>\n",
       "      <td>Nicholson</td>\n",
       "      <td>F</td>\n",
       "      <td>15</td>\n",
       "      <td>a_open</td>\n",
       "    </tr>\n",
       "    <tr>\n",
       "      <th>29</th>\n",
       "      <td>30</td>\n",
       "      <td>Michelle</td>\n",
       "      <td>Davis</td>\n",
       "      <td>F</td>\n",
       "      <td>27</td>\n",
       "      <td>a_open</td>\n",
       "    </tr>\n",
       "    <tr>\n",
       "      <th>47</th>\n",
       "      <td>48</td>\n",
       "      <td>Clare</td>\n",
       "      <td>Browne</td>\n",
       "      <td>F</td>\n",
       "      <td>27</td>\n",
       "      <td>a_open</td>\n",
       "    </tr>\n",
       "    <tr>\n",
       "      <th>17</th>\n",
       "      <td>18</td>\n",
       "      <td>Nicole</td>\n",
       "      <td>Soblosky</td>\n",
       "      <td>F</td>\n",
       "      <td>29</td>\n",
       "      <td>a_open</td>\n",
       "    </tr>\n",
       "  </tbody>\n",
       "</table>\n",
       "</div>"
      ],
      "text/plain": [
       "    Place FIRST_NAME  LAST_NAME Sex  Ag age_cat\n",
       "36     37      Julia     Barker   F  13  a_open\n",
       "34     35    Jourdyn  Nicholson   F  15  a_open\n",
       "29     30   Michelle      Davis   F  27  a_open\n",
       "47     48      Clare     Browne   F  27  a_open\n",
       "17     18     Nicole   Soblosky   F  29  a_open"
      ]
     },
     "execution_count": 12,
     "metadata": {},
     "output_type": "execute_result"
    }
   ],
   "source": [
    "hmrrc[\"age_cat\"]=hmrrc.Ag.apply(lambda x:AgeToCat(x))\n",
    "hmrrc.head()"
   ]
  },
  {
   "cell_type": "code",
   "execution_count": 13,
   "metadata": {
    "collapsed": false
   },
   "outputs": [
    {
     "data": {
      "text/html": [
       "<div>\n",
       "<table border=\"1\" class=\"dataframe\">\n",
       "  <thead>\n",
       "    <tr style=\"text-align: right;\">\n",
       "      <th></th>\n",
       "      <th>Place</th>\n",
       "      <th>FIRST_NAME</th>\n",
       "      <th>LAST_NAME</th>\n",
       "      <th>Sex</th>\n",
       "      <th>Ag</th>\n",
       "      <th>age_cat</th>\n",
       "    </tr>\n",
       "  </thead>\n",
       "  <tbody>\n",
       "    <tr>\n",
       "      <th>17</th>\n",
       "      <td>18</td>\n",
       "      <td>Nicole</td>\n",
       "      <td>Soblosky</td>\n",
       "      <td>F</td>\n",
       "      <td>29</td>\n",
       "      <td>a_open</td>\n",
       "    </tr>\n",
       "    <tr>\n",
       "      <th>29</th>\n",
       "      <td>30</td>\n",
       "      <td>Michelle</td>\n",
       "      <td>Davis</td>\n",
       "      <td>F</td>\n",
       "      <td>27</td>\n",
       "      <td>a_open</td>\n",
       "    </tr>\n",
       "    <tr>\n",
       "      <th>34</th>\n",
       "      <td>35</td>\n",
       "      <td>Jourdyn</td>\n",
       "      <td>Nicholson</td>\n",
       "      <td>F</td>\n",
       "      <td>15</td>\n",
       "      <td>a_open</td>\n",
       "    </tr>\n",
       "    <tr>\n",
       "      <th>36</th>\n",
       "      <td>37</td>\n",
       "      <td>Julia</td>\n",
       "      <td>Barker</td>\n",
       "      <td>F</td>\n",
       "      <td>13</td>\n",
       "      <td>a_open</td>\n",
       "    </tr>\n",
       "    <tr>\n",
       "      <th>47</th>\n",
       "      <td>48</td>\n",
       "      <td>Clare</td>\n",
       "      <td>Browne</td>\n",
       "      <td>F</td>\n",
       "      <td>27</td>\n",
       "      <td>a_open</td>\n",
       "    </tr>\n",
       "  </tbody>\n",
       "</table>\n",
       "</div>"
      ],
      "text/plain": [
       "    Place FIRST_NAME  LAST_NAME Sex  Ag age_cat\n",
       "17     18     Nicole   Soblosky   F  29  a_open\n",
       "29     30   Michelle      Davis   F  27  a_open\n",
       "34     35    Jourdyn  Nicholson   F  15  a_open\n",
       "36     37      Julia     Barker   F  13  a_open\n",
       "47     48      Clare     Browne   F  27  a_open"
      ]
     },
     "execution_count": 13,
     "metadata": {},
     "output_type": "execute_result"
    }
   ],
   "source": [
    "hmrrc=hmrrc.sort_values(['Sex','age_cat','Place'])\n",
    "hmrrc.head()"
   ]
  },
  {
   "cell_type": "code",
   "execution_count": 14,
   "metadata": {
    "collapsed": false
   },
   "outputs": [
    {
     "data": {
      "text/html": [
       "<div>\n",
       "<table border=\"1\" class=\"dataframe\">\n",
       "  <thead>\n",
       "    <tr style=\"text-align: right;\">\n",
       "      <th></th>\n",
       "      <th>Place</th>\n",
       "      <th>FIRST_NAME</th>\n",
       "      <th>LAST_NAME</th>\n",
       "      <th>Sex</th>\n",
       "      <th>Ag</th>\n",
       "      <th>age_cat</th>\n",
       "      <th>name</th>\n",
       "    </tr>\n",
       "  </thead>\n",
       "  <tbody>\n",
       "    <tr>\n",
       "      <th>17</th>\n",
       "      <td>18</td>\n",
       "      <td>Nicole</td>\n",
       "      <td>Soblosky</td>\n",
       "      <td>F</td>\n",
       "      <td>29</td>\n",
       "      <td>a_open</td>\n",
       "      <td>Nicole Soblosky</td>\n",
       "    </tr>\n",
       "    <tr>\n",
       "      <th>29</th>\n",
       "      <td>30</td>\n",
       "      <td>Michelle</td>\n",
       "      <td>Davis</td>\n",
       "      <td>F</td>\n",
       "      <td>27</td>\n",
       "      <td>a_open</td>\n",
       "      <td>Michelle Davis</td>\n",
       "    </tr>\n",
       "    <tr>\n",
       "      <th>34</th>\n",
       "      <td>35</td>\n",
       "      <td>Jourdyn</td>\n",
       "      <td>Nicholson</td>\n",
       "      <td>F</td>\n",
       "      <td>15</td>\n",
       "      <td>a_open</td>\n",
       "      <td>Jourdyn Nicholson</td>\n",
       "    </tr>\n",
       "    <tr>\n",
       "      <th>36</th>\n",
       "      <td>37</td>\n",
       "      <td>Julia</td>\n",
       "      <td>Barker</td>\n",
       "      <td>F</td>\n",
       "      <td>13</td>\n",
       "      <td>a_open</td>\n",
       "      <td>Julia Barker</td>\n",
       "    </tr>\n",
       "    <tr>\n",
       "      <th>47</th>\n",
       "      <td>48</td>\n",
       "      <td>Clare</td>\n",
       "      <td>Browne</td>\n",
       "      <td>F</td>\n",
       "      <td>27</td>\n",
       "      <td>a_open</td>\n",
       "      <td>Clare Browne</td>\n",
       "    </tr>\n",
       "  </tbody>\n",
       "</table>\n",
       "</div>"
      ],
      "text/plain": [
       "    Place FIRST_NAME  LAST_NAME Sex  Ag age_cat               name\n",
       "17     18     Nicole   Soblosky   F  29  a_open    Nicole Soblosky\n",
       "29     30   Michelle      Davis   F  27  a_open     Michelle Davis\n",
       "34     35    Jourdyn  Nicholson   F  15  a_open  Jourdyn Nicholson\n",
       "36     37      Julia     Barker   F  13  a_open       Julia Barker\n",
       "47     48      Clare     Browne   F  27  a_open       Clare Browne"
      ]
     },
     "execution_count": 14,
     "metadata": {},
     "output_type": "execute_result"
    }
   ],
   "source": [
    "hmrrc['name']=hmrrc.FIRST_NAME+\" \"+hmrrc.LAST_NAME\n",
    "hmrrc.head()"
   ]
  },
  {
   "cell_type": "code",
   "execution_count": 16,
   "metadata": {
    "collapsed": true
   },
   "outputs": [],
   "source": [
    "hmrrc.to_csv('../data/2016/ColonieMile/ColonieMile_scored.csv')"
   ]
  },
  {
   "cell_type": "code",
   "execution_count": null,
   "metadata": {
    "collapsed": true
   },
   "outputs": [],
   "source": []
  }
 ],
 "metadata": {
  "kernelspec": {
   "display_name": "Python 2",
   "language": "python",
   "name": "python2"
  },
  "language_info": {
   "codemirror_mode": {
    "name": "ipython",
    "version": 2
   },
   "file_extension": ".py",
   "mimetype": "text/x-python",
   "name": "python",
   "nbconvert_exporter": "python",
   "pygments_lexer": "ipython2",
   "version": "2.7.11"
  }
 },
 "nbformat": 4,
 "nbformat_minor": 0
}
