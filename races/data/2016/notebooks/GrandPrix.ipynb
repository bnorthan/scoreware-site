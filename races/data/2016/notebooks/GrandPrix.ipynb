{
 "cells": [
  {
   "cell_type": "code",
   "execution_count": 36,
   "metadata": {
    "collapsed": false
   },
   "outputs": [
    {
     "data": {
      "text/plain": [
       "[u'Male',\n",
       " u'Female',\n",
       " u'Agegrade',\n",
       " u'Totals Worksheet',\n",
       " u'Hangover',\n",
       " u'10M',\n",
       " u'ROTG',\n",
       " u'Sheet2']"
      ]
     },
     "execution_count": 36,
     "metadata": {},
     "output_type": "execute_result"
    }
   ],
   "source": [
    "import pandas as pd\n",
    "import operator\n",
    "from difflib import SequenceMatcher\n",
    "\n",
    "xl=pd.ExcelFile('../Spreadsheet/Grand_Prix_Post_Masters_2016.xls')\n",
    "\n",
    "xl.sheet_names"
   ]
  },
  {
   "cell_type": "code",
   "execution_count": 37,
   "metadata": {
    "collapsed": true
   },
   "outputs": [],
   "source": [
    "df=xl.parse('Female')"
   ]
  },
  {
   "cell_type": "code",
   "execution_count": 38,
   "metadata": {
    "collapsed": false
   },
   "outputs": [
    {
     "data": {
      "text/html": [
       "<div>\n",
       "<table border=\"1\" class=\"dataframe\">\n",
       "  <thead>\n",
       "    <tr style=\"text-align: right;\">\n",
       "      <th></th>\n",
       "      <th>Race #1 Hangover Half Marathon, January 1, 2016</th>\n",
       "      <th>Unnamed: 1</th>\n",
       "      <th>Unnamed: 2</th>\n",
       "      <th>Unnamed: 3</th>\n",
       "      <th>Unnamed: 4</th>\n",
       "      <th>Unnamed: 5</th>\n",
       "      <th>Unnamed: 6</th>\n",
       "      <th>Unnamed: 7</th>\n",
       "      <th>Unnamed: 8</th>\n",
       "      <th>Unnamed: 9</th>\n",
       "      <th>Unnamed: 10</th>\n",
       "      <th>Unnamed: 11</th>\n",
       "      <th>Unnamed: 12</th>\n",
       "    </tr>\n",
       "  </thead>\n",
       "  <tbody>\n",
       "    <tr>\n",
       "      <th>0</th>\n",
       "      <td>NaN</td>\n",
       "      <td>NaN</td>\n",
       "      <td>Female Open</td>\n",
       "      <td>NaN</td>\n",
       "      <td>Female 30-39</td>\n",
       "      <td>NaN</td>\n",
       "      <td>Female 40-49</td>\n",
       "      <td>NaN</td>\n",
       "      <td>Female 50-59</td>\n",
       "      <td>NaN</td>\n",
       "      <td>Female 60-69</td>\n",
       "      <td>NaN</td>\n",
       "      <td>Female 70-99</td>\n",
       "    </tr>\n",
       "    <tr>\n",
       "      <th>1</th>\n",
       "      <td>1</td>\n",
       "      <td>12.0</td>\n",
       "      <td>Michelle Davis</td>\n",
       "      <td>12.0</td>\n",
       "      <td>Karen Bertasso</td>\n",
       "      <td>12.0</td>\n",
       "      <td>Erin Corcoran</td>\n",
       "      <td>12.0</td>\n",
       "      <td>Inge Aiken</td>\n",
       "      <td>12</td>\n",
       "      <td>Martha Degrazia</td>\n",
       "      <td>12.0</td>\n",
       "      <td>NaN</td>\n",
       "    </tr>\n",
       "    <tr>\n",
       "      <th>2</th>\n",
       "      <td>2</td>\n",
       "      <td>10.0</td>\n",
       "      <td>Ping Wong</td>\n",
       "      <td>10.0</td>\n",
       "      <td>Kristen Quaresimo</td>\n",
       "      <td>10.0</td>\n",
       "      <td>Sally Drake</td>\n",
       "      <td>10.0</td>\n",
       "      <td>Denise Iannazotto</td>\n",
       "      <td>10</td>\n",
       "      <td>Cathy Sliwinski</td>\n",
       "      <td>10.0</td>\n",
       "      <td>NaN</td>\n",
       "    </tr>\n",
       "    <tr>\n",
       "      <th>3</th>\n",
       "      <td>3</td>\n",
       "      <td>8.0</td>\n",
       "      <td>Michelle Pratt</td>\n",
       "      <td>8.0</td>\n",
       "      <td>Meghan Mortensen</td>\n",
       "      <td>8.0</td>\n",
       "      <td>Karen Dolge</td>\n",
       "      <td>8.0</td>\n",
       "      <td>Linda Kimmey</td>\n",
       "      <td>8</td>\n",
       "      <td>Karen Spinozzi</td>\n",
       "      <td>8.0</td>\n",
       "      <td>NaN</td>\n",
       "    </tr>\n",
       "    <tr>\n",
       "      <th>4</th>\n",
       "      <td>4</td>\n",
       "      <td>7.0</td>\n",
       "      <td>Jennifer Kehn</td>\n",
       "      <td>7.0</td>\n",
       "      <td>Kari Deer</td>\n",
       "      <td>7.0</td>\n",
       "      <td>Kimberly Miseno</td>\n",
       "      <td>7.0</td>\n",
       "      <td>Maureen Fitzgerald</td>\n",
       "      <td>7</td>\n",
       "      <td>Joan Celentano</td>\n",
       "      <td>7.0</td>\n",
       "      <td>NaN</td>\n",
       "    </tr>\n",
       "  </tbody>\n",
       "</table>\n",
       "</div>"
      ],
      "text/plain": [
       "  Race #1 Hangover Half Marathon, January 1, 2016  Unnamed: 1      Unnamed: 2  \\\n",
       "0                                             NaN         NaN     Female Open   \n",
       "1                                               1        12.0  Michelle Davis   \n",
       "2                                               2        10.0       Ping Wong   \n",
       "3                                               3         8.0  Michelle Pratt   \n",
       "4                                               4         7.0   Jennifer Kehn   \n",
       "\n",
       "   Unnamed: 3         Unnamed: 4  Unnamed: 5       Unnamed: 6  Unnamed: 7  \\\n",
       "0         NaN       Female 30-39         NaN     Female 40-49         NaN   \n",
       "1        12.0     Karen Bertasso        12.0    Erin Corcoran        12.0   \n",
       "2        10.0  Kristen Quaresimo        10.0      Sally Drake        10.0   \n",
       "3         8.0   Meghan Mortensen         8.0      Karen Dolge         8.0   \n",
       "4         7.0          Kari Deer         7.0  Kimberly Miseno         7.0   \n",
       "\n",
       "           Unnamed: 8 Unnamed: 9      Unnamed: 10  Unnamed: 11   Unnamed: 12  \n",
       "0        Female 50-59        NaN     Female 60-69          NaN  Female 70-99  \n",
       "1          Inge Aiken         12  Martha Degrazia         12.0           NaN  \n",
       "2   Denise Iannazotto         10  Cathy Sliwinski         10.0           NaN  \n",
       "3        Linda Kimmey          8   Karen Spinozzi          8.0           NaN  \n",
       "4  Maureen Fitzgerald          7   Joan Celentano          7.0           NaN  "
      ]
     },
     "execution_count": 38,
     "metadata": {},
     "output_type": "execute_result"
    }
   ],
   "source": [
    "df.head()"
   ]
  },
  {
   "cell_type": "code",
   "execution_count": 43,
   "metadata": {
    "collapsed": false
   },
   "outputs": [],
   "source": [
    "new=df.ix[:,11:13]\n",
    "new=new.dropna()\n",
    "new=new.reset_index()"
   ]
  },
  {
   "cell_type": "code",
   "execution_count": 44,
   "metadata": {
    "collapsed": false
   },
   "outputs": [
    {
     "name": "stdout",
     "output_type": "stream",
     "text": [
      "20 Eiko Bogue\n",
      "20 Anny Stockman\n",
      "12 Marge Rajczewski\n"
     ]
    }
   ],
   "source": [
    "score(new)"
   ]
  },
  {
   "cell_type": "code",
   "execution_count": 8,
   "metadata": {
    "collapsed": false
   },
   "outputs": [],
   "source": [
    "def score(age_results):\n",
    "    \n",
    "    dicti={}\n",
    "\n",
    "    for row in age_results.index:\n",
    "        #name=new.NameO[row]\n",
    "        name=age_results.iloc[row,2]\n",
    "\n",
    "        p=age_results.iloc[row,1]\n",
    "        if name in dicti.keys():\n",
    "            points=dicti[name]\n",
    "            points.append(p)\n",
    "        else:\n",
    "            bestmatch=0\n",
    "            bestkey=None\n",
    "            for key in dicti.keys():\n",
    "                testmatch=SequenceMatcher(None, name, key).ratio()\n",
    "                if (testmatch>bestmatch):\n",
    "                    bestmatch=testmatch\n",
    "                    bestkey=key\n",
    "                       \n",
    "            if (bestmatch>0.85):\n",
    "                points=dicti[bestkey]\n",
    "                points.append(p)\n",
    "            else:\n",
    "                dicti[name]=[p]\n",
    "\n",
    "    totals={}\n",
    "\n",
    "    for name in dicti:\n",
    "        points=dicti[name]\n",
    "        points.sort(reverse=True)\n",
    "        total=points[0:6]\n",
    "        totals[name]=sum(total)\n",
    "\n",
    "\n",
    "    sorted_totals = sorted(totals.items(), key=operator.itemgetter(1), reverse=True)\n",
    "\n",
    "    for item in sorted_totals:\n",
    "        print str(int(item[1]))+' '+item[0]"
   ]
  },
  {
   "cell_type": "code",
   "execution_count": 7,
   "metadata": {
    "collapsed": false
   },
   "outputs": [
    {
     "ename": "TypeError",
     "evalue": "'type' object has no attribute '__getitem__'",
     "output_type": "error",
     "traceback": [
      "\u001b[1;31m---------------------------------------------------------------------------\u001b[0m",
      "\u001b[1;31mTypeError\u001b[0m                                 Traceback (most recent call last)",
      "\u001b[1;32m<ipython-input-7-0f752532c4cb>\u001b[0m in \u001b[0;36m<module>\u001b[1;34m()\u001b[0m\n\u001b[1;32m----> 1\u001b[1;33m \u001b[0mtest\u001b[0m\u001b[1;33m=\u001b[0m\u001b[0mdict\u001b[0m\u001b[1;33m[\u001b[0m\u001b[1;34m'Ben Heller'\u001b[0m\u001b[1;33m]\u001b[0m\u001b[1;33m\u001b[0m\u001b[0m\n\u001b[0m\u001b[0;32m      2\u001b[0m \u001b[1;33m\u001b[0m\u001b[0m\n\u001b[0;32m      3\u001b[0m \u001b[1;32mprint\u001b[0m \u001b[0mtest\u001b[0m\u001b[1;33m\u001b[0m\u001b[0m\n\u001b[0;32m      4\u001b[0m \u001b[1;32mprint\u001b[0m \u001b[0mtest\u001b[0m\u001b[1;33m.\u001b[0m\u001b[0msort\u001b[0m\u001b[1;33m(\u001b[0m\u001b[0mreverse\u001b[0m\u001b[1;33m=\u001b[0m\u001b[0mTrue\u001b[0m\u001b[1;33m)\u001b[0m\u001b[1;33m\u001b[0m\u001b[0m\n\u001b[0;32m      5\u001b[0m \u001b[1;32mprint\u001b[0m \u001b[0mtest\u001b[0m\u001b[1;33m\u001b[0m\u001b[0m\n",
      "\u001b[1;31mTypeError\u001b[0m: 'type' object has no attribute '__getitem__'"
     ]
    }
   ],
   "source": [
    "test=dict['Ben Heller']\n",
    "\n",
    "print test\n",
    "print test.sort(reverse=True)\n",
    "print test"
   ]
  },
  {
   "cell_type": "code",
   "execution_count": 8,
   "metadata": {
    "collapsed": false
   },
   "outputs": [
    {
     "name": "stdout",
     "output_type": "stream",
     "text": [
      "[1, 2, 3, 4, 5]\n"
     ]
    }
   ],
   "source": [
    "test=[1,2,3,4,5]\n",
    "print test[0:10]"
   ]
  },
  {
   "cell_type": "code",
   "execution_count": 12,
   "metadata": {
    "collapsed": true
   },
   "outputs": [],
   "source": []
  },
  {
   "cell_type": "code",
   "execution_count": 19,
   "metadata": {
    "collapsed": false
   },
   "outputs": [
    {
     "name": "stdout",
     "output_type": "stream",
     "text": [
      "0.818181818182\n"
     ]
    }
   ],
   "source": [
    "m=SequenceMatcher(None, \"Mick Blicker\", \"M. Blicker\")\n",
    "print m.ratio()"
   ]
  },
  {
   "cell_type": "code",
   "execution_count": null,
   "metadata": {
    "collapsed": true
   },
   "outputs": [],
   "source": []
  }
 ],
 "metadata": {
  "kernelspec": {
   "display_name": "Python 2",
   "language": "python",
   "name": "python2"
  },
  "language_info": {
   "codemirror_mode": {
    "name": "ipython",
    "version": 2
   },
   "file_extension": ".py",
   "mimetype": "text/x-python",
   "name": "python",
   "nbconvert_exporter": "python",
   "pygments_lexer": "ipython2",
   "version": "2.7.11"
  }
 },
 "nbformat": 4,
 "nbformat_minor": 0
}
