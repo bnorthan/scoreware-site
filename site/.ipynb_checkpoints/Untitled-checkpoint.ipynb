{
 "cells": [
  {
   "cell_type": "code",
   "execution_count": 8,
   "metadata": {
    "collapsed": true
   },
   "outputs": [],
   "source": [
    "import sqlite3\n",
    "import pandas as pd"
   ]
  },
  {
   "cell_type": "code",
   "execution_count": 3,
   "metadata": {
    "collapsed": true
   },
   "outputs": [],
   "source": [
    "conn=sqlite3.connect('db.sqlite3')"
   ]
  },
  {
   "cell_type": "code",
   "execution_count": 4,
   "metadata": {
    "collapsed": true
   },
   "outputs": [],
   "source": [
    "cursor=conn.cursor()"
   ]
  },
  {
   "cell_type": "code",
   "execution_count": 6,
   "metadata": {
    "collapsed": false
   },
   "outputs": [
    {
     "data": {
      "text/plain": [
       "[(u'django_migrations',),\n",
       " (u'sqlite_sequence',),\n",
       " (u'auth_group',),\n",
       " (u'auth_group_permissions',),\n",
       " (u'auth_user_groups',),\n",
       " (u'auth_user_user_permissions',),\n",
       " (u'django_admin_log',),\n",
       " (u'django_content_type',),\n",
       " (u'auth_permission',),\n",
       " (u'auth_user',),\n",
       " (u'django_session',),\n",
       " (u'results_race',),\n",
       " (u'results_runner',),\n",
       " (u'results_result',)]"
      ]
     },
     "execution_count": 6,
     "metadata": {},
     "output_type": "execute_result"
    }
   ],
   "source": [
    "cursor.execute(\"SELECT name FROM sqlite_master WHERE type='table';\")\n",
    "cursor.fetchall()"
   ]
  },
  {
   "cell_type": "code",
   "execution_count": 7,
   "metadata": {
    "collapsed": false
   },
   "outputs": [
    {
     "data": {
      "text/plain": [
       "[(0, u'id', u'integer', 1, None, 1),\n",
       " (1, u'time', u'time', 1, None, 0),\n",
       " (2, u'race_id', u'integer', 1, None, 0),\n",
       " (3, u'runner_id', u'integer', 0, None, 0),\n",
       " (4, u'first_name', u'varchar(200)', 1, None, 0),\n",
       " (5, u'last_name', u'varchar(200)', 1, None, 0),\n",
       " (6, u'gender', u'varchar(1)', 1, None, 0),\n",
       " (7, u'city', u'varchar(200)', 1, None, 0),\n",
       " (8, u'state', u'varchar(2)', 1, None, 0),\n",
       " (9, u'age', u'integer', 1, None, 0),\n",
       " (10, u'bib', u'integer', 1, None, 0),\n",
       " (11, u'pace', u'time', 1, None, 0),\n",
       " (12, u'splits', u'varchar(400)', 1, None, 0)]"
      ]
     },
     "execution_count": 7,
     "metadata": {},
     "output_type": "execute_result"
    }
   ],
   "source": [
    "cursor.execute(\"PRAGMA table_info(results_result)\")\n",
    "cursor.fetchall()"
   ]
  },
  {
   "cell_type": "code",
   "execution_count": 9,
   "metadata": {
    "collapsed": true
   },
   "outputs": [],
   "source": [
    "df=pd.read_sql(\"select * from results_result\",conn)"
   ]
  },
  {
   "cell_type": "code",
   "execution_count": 10,
   "metadata": {
    "collapsed": false
   },
   "outputs": [
    {
     "data": {
      "text/html": [
       "<div>\n",
       "<table border=\"1\" class=\"dataframe\">\n",
       "  <thead>\n",
       "    <tr style=\"text-align: right;\">\n",
       "      <th></th>\n",
       "      <th>id</th>\n",
       "      <th>time</th>\n",
       "      <th>race_id</th>\n",
       "      <th>runner_id</th>\n",
       "      <th>first_name</th>\n",
       "      <th>last_name</th>\n",
       "      <th>gender</th>\n",
       "      <th>city</th>\n",
       "      <th>state</th>\n",
       "      <th>age</th>\n",
       "      <th>bib</th>\n",
       "      <th>pace</th>\n",
       "      <th>splits</th>\n",
       "    </tr>\n",
       "  </thead>\n",
       "  <tbody>\n",
       "    <tr>\n",
       "      <th>0</th>\n",
       "      <td>1</td>\n",
       "      <td>00:20:47</td>\n",
       "      <td>1</td>\n",
       "      <td>3.0</td>\n",
       "      <td>Moop</td>\n",
       "      <td>Looper</td>\n",
       "      <td>M</td>\n",
       "      <td></td>\n",
       "      <td></td>\n",
       "      <td>0</td>\n",
       "      <td>0</td>\n",
       "      <td>00:00:00</td>\n",
       "      <td></td>\n",
       "    </tr>\n",
       "    <tr>\n",
       "      <th>1</th>\n",
       "      <td>2</td>\n",
       "      <td>00:21:10</td>\n",
       "      <td>1</td>\n",
       "      <td>1.0</td>\n",
       "      <td>Bill</td>\n",
       "      <td>Smith</td>\n",
       "      <td>M</td>\n",
       "      <td></td>\n",
       "      <td></td>\n",
       "      <td>0</td>\n",
       "      <td>0</td>\n",
       "      <td>00:00:00</td>\n",
       "      <td></td>\n",
       "    </tr>\n",
       "    <tr>\n",
       "      <th>2</th>\n",
       "      <td>3</td>\n",
       "      <td>00:23:45</td>\n",
       "      <td>1</td>\n",
       "      <td>4.0</td>\n",
       "      <td>Porky</td>\n",
       "      <td>Pitts</td>\n",
       "      <td>M</td>\n",
       "      <td></td>\n",
       "      <td></td>\n",
       "      <td>0</td>\n",
       "      <td>0</td>\n",
       "      <td>00:00:00</td>\n",
       "      <td></td>\n",
       "    </tr>\n",
       "    <tr>\n",
       "      <th>3</th>\n",
       "      <td>4</td>\n",
       "      <td>00:40:09</td>\n",
       "      <td>2</td>\n",
       "      <td>1.0</td>\n",
       "      <td>Bill</td>\n",
       "      <td>Smith</td>\n",
       "      <td>M</td>\n",
       "      <td></td>\n",
       "      <td></td>\n",
       "      <td>0</td>\n",
       "      <td>0</td>\n",
       "      <td>00:00:00</td>\n",
       "      <td></td>\n",
       "    </tr>\n",
       "    <tr>\n",
       "      <th>4</th>\n",
       "      <td>5</td>\n",
       "      <td>00:48:32</td>\n",
       "      <td>2</td>\n",
       "      <td>2.0</td>\n",
       "      <td>Marky</td>\n",
       "      <td>Summers</td>\n",
       "      <td>M</td>\n",
       "      <td></td>\n",
       "      <td></td>\n",
       "      <td>0</td>\n",
       "      <td>0</td>\n",
       "      <td>00:00:00</td>\n",
       "      <td></td>\n",
       "    </tr>\n",
       "  </tbody>\n",
       "</table>\n",
       "</div>"
      ],
      "text/plain": [
       "   id      time  race_id  runner_id first_name last_name gender city state  \\\n",
       "0   1  00:20:47        1        3.0       Moop    Looper      M              \n",
       "1   2  00:21:10        1        1.0       Bill     Smith      M              \n",
       "2   3  00:23:45        1        4.0      Porky     Pitts      M              \n",
       "3   4  00:40:09        2        1.0       Bill     Smith      M              \n",
       "4   5  00:48:32        2        2.0      Marky   Summers      M              \n",
       "\n",
       "   age  bib      pace splits  \n",
       "0    0    0  00:00:00         \n",
       "1    0    0  00:00:00         \n",
       "2    0    0  00:00:00         \n",
       "3    0    0  00:00:00         \n",
       "4    0    0  00:00:00         "
      ]
     },
     "execution_count": 10,
     "metadata": {},
     "output_type": "execute_result"
    }
   ],
   "source": [
    "df.head()"
   ]
  },
  {
   "cell_type": "code",
   "execution_count": 11,
   "metadata": {
    "collapsed": false
   },
   "outputs": [
    {
     "data": {
      "text/html": [
       "<div>\n",
       "<table border=\"1\" class=\"dataframe\">\n",
       "  <thead>\n",
       "    <tr style=\"text-align: right;\">\n",
       "      <th></th>\n",
       "      <th>id</th>\n",
       "      <th>time</th>\n",
       "      <th>race_id</th>\n",
       "      <th>runner_id</th>\n",
       "      <th>first_name</th>\n",
       "      <th>last_name</th>\n",
       "      <th>gender</th>\n",
       "      <th>city</th>\n",
       "      <th>state</th>\n",
       "      <th>age</th>\n",
       "      <th>bib</th>\n",
       "      <th>pace</th>\n",
       "      <th>splits</th>\n",
       "    </tr>\n",
       "  </thead>\n",
       "  <tbody>\n",
       "    <tr>\n",
       "      <th>0</th>\n",
       "      <td>1</td>\n",
       "      <td>00:20:47</td>\n",
       "      <td>1</td>\n",
       "      <td>3.0</td>\n",
       "      <td>Moop</td>\n",
       "      <td>Looper</td>\n",
       "      <td>M</td>\n",
       "      <td></td>\n",
       "      <td></td>\n",
       "      <td>0</td>\n",
       "      <td>0</td>\n",
       "      <td>00:00:00</td>\n",
       "      <td></td>\n",
       "    </tr>\n",
       "    <tr>\n",
       "      <th>1</th>\n",
       "      <td>2</td>\n",
       "      <td>00:21:10</td>\n",
       "      <td>1</td>\n",
       "      <td>1.0</td>\n",
       "      <td>Bill</td>\n",
       "      <td>Smith</td>\n",
       "      <td>M</td>\n",
       "      <td></td>\n",
       "      <td></td>\n",
       "      <td>0</td>\n",
       "      <td>0</td>\n",
       "      <td>00:00:00</td>\n",
       "      <td></td>\n",
       "    </tr>\n",
       "    <tr>\n",
       "      <th>2</th>\n",
       "      <td>3</td>\n",
       "      <td>00:23:45</td>\n",
       "      <td>1</td>\n",
       "      <td>4.0</td>\n",
       "      <td>Porky</td>\n",
       "      <td>Pitts</td>\n",
       "      <td>M</td>\n",
       "      <td></td>\n",
       "      <td></td>\n",
       "      <td>0</td>\n",
       "      <td>0</td>\n",
       "      <td>00:00:00</td>\n",
       "      <td></td>\n",
       "    </tr>\n",
       "    <tr>\n",
       "      <th>3</th>\n",
       "      <td>4</td>\n",
       "      <td>00:40:09</td>\n",
       "      <td>2</td>\n",
       "      <td>1.0</td>\n",
       "      <td>Bill</td>\n",
       "      <td>Smith</td>\n",
       "      <td>M</td>\n",
       "      <td></td>\n",
       "      <td></td>\n",
       "      <td>0</td>\n",
       "      <td>0</td>\n",
       "      <td>00:00:00</td>\n",
       "      <td></td>\n",
       "    </tr>\n",
       "    <tr>\n",
       "      <th>4</th>\n",
       "      <td>5</td>\n",
       "      <td>00:48:32</td>\n",
       "      <td>2</td>\n",
       "      <td>2.0</td>\n",
       "      <td>Marky</td>\n",
       "      <td>Summers</td>\n",
       "      <td>M</td>\n",
       "      <td></td>\n",
       "      <td></td>\n",
       "      <td>0</td>\n",
       "      <td>0</td>\n",
       "      <td>00:00:00</td>\n",
       "      <td></td>\n",
       "    </tr>\n",
       "    <tr>\n",
       "      <th>5</th>\n",
       "      <td>6</td>\n",
       "      <td>00:56:09</td>\n",
       "      <td>2</td>\n",
       "      <td>4.0</td>\n",
       "      <td>P.</td>\n",
       "      <td>Pitts</td>\n",
       "      <td>M</td>\n",
       "      <td></td>\n",
       "      <td></td>\n",
       "      <td>0</td>\n",
       "      <td>0</td>\n",
       "      <td>00:00:00</td>\n",
       "      <td></td>\n",
       "    </tr>\n",
       "    <tr>\n",
       "      <th>6</th>\n",
       "      <td>7</td>\n",
       "      <td>00:20:31</td>\n",
       "      <td>1</td>\n",
       "      <td>NaN</td>\n",
       "      <td>Stephie</td>\n",
       "      <td>Smoots</td>\n",
       "      <td>F</td>\n",
       "      <td></td>\n",
       "      <td></td>\n",
       "      <td>0</td>\n",
       "      <td>0</td>\n",
       "      <td>00:00:00</td>\n",
       "      <td></td>\n",
       "    </tr>\n",
       "  </tbody>\n",
       "</table>\n",
       "</div>"
      ],
      "text/plain": [
       "   id      time  race_id  runner_id first_name last_name gender city state  \\\n",
       "0   1  00:20:47        1        3.0       Moop    Looper      M              \n",
       "1   2  00:21:10        1        1.0       Bill     Smith      M              \n",
       "2   3  00:23:45        1        4.0      Porky     Pitts      M              \n",
       "3   4  00:40:09        2        1.0       Bill     Smith      M              \n",
       "4   5  00:48:32        2        2.0      Marky   Summers      M              \n",
       "5   6  00:56:09        2        4.0         P.     Pitts      M              \n",
       "6   7  00:20:31        1        NaN    Stephie    Smoots      F              \n",
       "\n",
       "   age  bib      pace splits  \n",
       "0    0    0  00:00:00         \n",
       "1    0    0  00:00:00         \n",
       "2    0    0  00:00:00         \n",
       "3    0    0  00:00:00         \n",
       "4    0    0  00:00:00         \n",
       "5    0    0  00:00:00         \n",
       "6    0    0  00:00:00         "
      ]
     },
     "execution_count": 11,
     "metadata": {},
     "output_type": "execute_result"
    }
   ],
   "source": [
    "df"
   ]
  },
  {
   "cell_type": "code",
   "execution_count": 12,
   "metadata": {
    "collapsed": false
   },
   "outputs": [
    {
     "name": "stdout",
     "output_type": "stream",
     "text": [
      "Help on method to_sql in module pandas.core.generic:\n",
      "\n",
      "to_sql(self, name, con, flavor='sqlite', schema=None, if_exists='fail', index=True, index_label=None, chunksize=None, dtype=None) method of pandas.core.frame.DataFrame instance\n",
      "    Write records stored in a DataFrame to a SQL database.\n",
      "    \n",
      "    Parameters\n",
      "    ----------\n",
      "    name : string\n",
      "        Name of SQL table\n",
      "    con : SQLAlchemy engine or DBAPI2 connection (legacy mode)\n",
      "        Using SQLAlchemy makes it possible to use any DB supported by that\n",
      "        library.\n",
      "        If a DBAPI2 object, only sqlite3 is supported.\n",
      "    flavor : {'sqlite', 'mysql'}, default 'sqlite'\n",
      "        The flavor of SQL to use. Ignored when using SQLAlchemy engine.\n",
      "        'mysql' is deprecated and will be removed in future versions, but\n",
      "        it will be further supported through SQLAlchemy engines.\n",
      "    schema : string, default None\n",
      "        Specify the schema (if database flavor supports this). If None, use\n",
      "        default schema.\n",
      "    if_exists : {'fail', 'replace', 'append'}, default 'fail'\n",
      "        - fail: If table exists, do nothing.\n",
      "        - replace: If table exists, drop it, recreate it, and insert data.\n",
      "        - append: If table exists, insert data. Create if does not exist.\n",
      "    index : boolean, default True\n",
      "        Write DataFrame index as a column.\n",
      "    index_label : string or sequence, default None\n",
      "        Column label for index column(s). If None is given (default) and\n",
      "        `index` is True, then the index names are used.\n",
      "        A sequence should be given if the DataFrame uses MultiIndex.\n",
      "    chunksize : int, default None\n",
      "        If not None, then rows will be written in batches of this size at a\n",
      "        time.  If None, all rows will be written at once.\n",
      "    dtype : dict of column name to SQL type, default None\n",
      "        Optional specifying the datatype for columns. The SQL type should\n",
      "        be a SQLAlchemy type, or a string for sqlite3 fallback connection.\n",
      "\n"
     ]
    }
   ],
   "source": [
    "help(df.to_sql)"
   ]
  },
  {
   "cell_type": "code",
   "execution_count": null,
   "metadata": {
    "collapsed": true
   },
   "outputs": [],
   "source": []
  }
 ],
 "metadata": {
  "kernelspec": {
   "display_name": "Python 2",
   "language": "python",
   "name": "python2"
  },
  "language_info": {
   "codemirror_mode": {
    "name": "ipython",
    "version": 2
   },
   "file_extension": ".py",
   "mimetype": "text/x-python",
   "name": "python",
   "nbconvert_exporter": "python",
   "pygments_lexer": "ipython2",
   "version": "2.7.11"
  }
 },
 "nbformat": 4,
 "nbformat_minor": 0
}
